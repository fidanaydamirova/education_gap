{
  "nbformat": 4,
  "nbformat_minor": 0,
  "metadata": {
    "colab": {
      "name": "education_gap_analysis.ipynb",
      "provenance": [],
      "collapsed_sections": [],
      "include_colab_link": true
    },
    "kernelspec": {
      "name": "python3",
      "display_name": "Python 3"
    },
    "language_info": {
      "name": "python"
    }
  },
  "cells": [
    {
      "cell_type": "markdown",
      "metadata": {
        "id": "view-in-github",
        "colab_type": "text"
      },
      "source": [
        "<a href=\"https://colab.research.google.com/github/fidanaydamirova/education_gap/blob/main/education_gap_analysis.ipynb\" target=\"_parent\"><img src=\"https://colab.research.google.com/assets/colab-badge.svg\" alt=\"Open In Colab\"/></a>"
      ]
    },
    {
      "cell_type": "markdown",
      "metadata": {
        "id": "ARj4Q9VTNgzH"
      },
      "source": [
        "# Set up the notebook"
      ]
    },
    {
      "cell_type": "markdown",
      "metadata": {
        "id": "LPI4rihM804-"
      },
      "source": [
        "Install "
      ]
    },
    {
      "cell_type": "code",
      "metadata": {
        "colab": {
          "base_uri": "https://localhost:8080/"
        },
        "id": "v85nfRMl89IO",
        "outputId": "7df74bf8-f444-438b-ab11-e8b25d4ece7c"
      },
      "source": [
        "#pyspark\n",
        "!pip install pyspark\n",
        "\n",
        "#java virtual machine\n",
        "!apt install openjdk-8-jdk-headless &> /dev/null"
      ],
      "execution_count": 51,
      "outputs": [
        {
          "output_type": "stream",
          "name": "stdout",
          "text": [
            "Requirement already satisfied: pyspark in /usr/local/lib/python3.7/dist-packages (3.2.0)\n",
            "Requirement already satisfied: py4j==0.10.9.2 in /usr/local/lib/python3.7/dist-packages (from pyspark) (0.10.9.2)\n"
          ]
        }
      ]
    },
    {
      "cell_type": "markdown",
      "metadata": {
        "id": "bvYSy_-wNmll"
      },
      "source": [
        "Import the necessary libraries."
      ]
    },
    {
      "cell_type": "code",
      "metadata": {
        "id": "FEHX2ks79bxo"
      },
      "source": [
        "import os\n",
        "\n",
        "from pyspark.sql import SparkSession\n",
        "\n",
        "from pyspark.sql.types import StructType, IntegerType, FloatType, StructField, StringType\n",
        "\n",
        "from pyspark.ml.feature import VectorAssembler, StringIndexer, OneHotEncoder\n",
        "from pyspark.ml.regression import LinearRegression\n",
        "from pyspark.ml.evaluation import RegressionEvaluator\n",
        "\n",
        "from pyspark.ml import Pipeline\n",
        "\n",
        "from pyspark.sql.functions import isnan, when, count, col, avg, sum, round, stddev\n",
        "\n",
        "import matplotlib.pyplot as plt"
      ],
      "execution_count": 52,
      "outputs": []
    },
    {
      "cell_type": "markdown",
      "metadata": {
        "id": "0S1-5wG--fpQ"
      },
      "source": [
        "Set the java environmental variable"
      ]
    },
    {
      "cell_type": "code",
      "metadata": {
        "id": "onLmZzib-YK-"
      },
      "source": [
        "os.environ[\"JAVA_HOME\"] = \"/usr/lib/jvm/java-8-openjdk-amd64\""
      ],
      "execution_count": 53,
      "outputs": []
    },
    {
      "cell_type": "markdown",
      "metadata": {
        "id": "gCYOE2xx-bYq"
      },
      "source": [
        "## Create a SparkSesssion"
      ]
    },
    {
      "cell_type": "markdown",
      "metadata": {
        "id": "T04Cv7YV-pht"
      },
      "source": [
        "##### $\\rightarrow$ Create a `SparkSession`."
      ]
    },
    {
      "cell_type": "code",
      "metadata": {
        "id": "IJMQ-Sk1AvMq"
      },
      "source": [
        "spark = SparkSession.builder.master(\"local\").getOrCreate()"
      ],
      "execution_count": 54,
      "outputs": []
    },
    {
      "cell_type": "markdown",
      "metadata": {
        "id": "Gspg0NMX_R8B"
      },
      "source": [
        "Examine the `SparkSession`"
      ]
    },
    {
      "cell_type": "code",
      "metadata": {
        "colab": {
          "base_uri": "https://localhost:8080/",
          "height": 219
        },
        "id": "dM924K1j_LtH",
        "outputId": "2f35286d-a117-4087-a179-fccfd477207c"
      },
      "source": [
        "spark"
      ],
      "execution_count": 55,
      "outputs": [
        {
          "output_type": "execute_result",
          "data": {
            "text/html": [
              "\n",
              "            <div>\n",
              "                <p><b>SparkSession - in-memory</b></p>\n",
              "                \n",
              "        <div>\n",
              "            <p><b>SparkContext</b></p>\n",
              "\n",
              "            <p><a href=\"http://65c12d879c42:4040\">Spark UI</a></p>\n",
              "\n",
              "            <dl>\n",
              "              <dt>Version</dt>\n",
              "                <dd><code>v3.2.0</code></dd>\n",
              "              <dt>Master</dt>\n",
              "                <dd><code>local</code></dd>\n",
              "              <dt>AppName</dt>\n",
              "                <dd><code>pyspark-shell</code></dd>\n",
              "            </dl>\n",
              "        </div>\n",
              "        \n",
              "            </div>\n",
              "        "
            ],
            "text/plain": [
              "<pyspark.sql.session.SparkSession at 0x7f4f8b88a650>"
            ]
          },
          "metadata": {},
          "execution_count": 55
        }
      ]
    },
    {
      "cell_type": "markdown",
      "metadata": {
        "id": "UX7svfciOblA"
      },
      "source": [
        "## Load data"
      ]
    },
    {
      "cell_type": "markdown",
      "metadata": {
        "id": "EhMqTFmkOlxV"
      },
      "source": [
        "##### $\\rightarrow$ Load the `flights_small.csv` data set. This is similar to the data set used in Introduction to Pyspark on datacamp."
      ]
    },
    {
      "cell_type": "code",
      "metadata": {
        "colab": {
          "base_uri": "https://localhost:8080/"
        },
        "id": "fy67jsCj_qbv",
        "outputId": "3da99748-385f-449b-abe4-b295a6a394a3"
      },
      "source": [
        "!wget https://raw.githubusercontent.com/goodboychan/datacamp_repo/master/Introduction.to.PySpark/dataset/flights_small.csv"
      ],
      "execution_count": 56,
      "outputs": [
        {
          "output_type": "stream",
          "name": "stdout",
          "text": [
            "--2021-12-14 05:55:12--  https://raw.githubusercontent.com/goodboychan/datacamp_repo/master/Introduction.to.PySpark/dataset/flights_small.csv\n",
            "Resolving raw.githubusercontent.com (raw.githubusercontent.com)... 185.199.108.133, 185.199.109.133, 185.199.110.133, ...\n",
            "Connecting to raw.githubusercontent.com (raw.githubusercontent.com)|185.199.108.133|:443... connected.\n",
            "HTTP request sent, awaiting response... 200 OK\n",
            "Length: 614173 (600K) [text/plain]\n",
            "Saving to: ‘flights_small.csv.1’\n",
            "\n",
            "flights_small.csv.1 100%[===================>] 599.78K  --.-KB/s    in 0.04s   \n",
            "\n",
            "2021-12-14 05:55:12 (13.5 MB/s) - ‘flights_small.csv.1’ saved [614173/614173]\n",
            "\n"
          ]
        }
      ]
    },
    {
      "cell_type": "markdown",
      "metadata": {
        "id": "-yrEMPFhP-rY"
      },
      "source": [
        "##### $\\rightarrow$ Read the data set into a Spark DataFrame called `df`."
      ]
    },
    {
      "cell_type": "markdown",
      "metadata": {
        "id": "5eXPNUPxOMmf"
      },
      "source": [
        "We need to specify a few options here. We specify that the header of the data set contains the columns names, not data values. We also ask Spark to infer the data types for each column."
      ]
    },
    {
      "cell_type": "code",
      "metadata": {
        "id": "Gpu1f82wOgy5"
      },
      "source": [
        "df = spark\\\n",
        "  .read\\\n",
        "  .option(\"inferSchema\", \"true\")\\\n",
        "  .option(\"header\", \"true\")\\\n",
        "  .csv(\"flights_small.csv\")"
      ],
      "execution_count": 57,
      "outputs": []
    },
    {
      "cell_type": "markdown",
      "metadata": {
        "id": "72EeTS9_WAM4"
      },
      "source": [
        "##### $\\rightarrow$ Use `show()` to display head of the DataFrame"
      ]
    },
    {
      "cell_type": "code",
      "metadata": {
        "colab": {
          "base_uri": "https://localhost:8080/"
        },
        "id": "7mayRSxzPwPU",
        "outputId": "3ae8b08e-eadc-47dc-e156-300c49f6ca1f"
      },
      "source": [
        "df.show(5)"
      ],
      "execution_count": 58,
      "outputs": [
        {
          "output_type": "stream",
          "name": "stdout",
          "text": [
            "+----+-----+---+--------+---------+--------+---------+-------+-------+------+------+----+--------+--------+----+------+\n",
            "|year|month|day|dep_time|dep_delay|arr_time|arr_delay|carrier|tailnum|flight|origin|dest|air_time|distance|hour|minute|\n",
            "+----+-----+---+--------+---------+--------+---------+-------+-------+------+------+----+--------+--------+----+------+\n",
            "|2014|   12|  8|     658|       -7|     935|       -5|     VX| N846VA|  1780|   SEA| LAX|     132|     954|   6|    58|\n",
            "|2014|    1| 22|    1040|        5|    1505|        5|     AS| N559AS|   851|   SEA| HNL|     360|    2677|  10|    40|\n",
            "|2014|    3|  9|    1443|       -2|    1652|        2|     VX| N847VA|   755|   SEA| SFO|     111|     679|  14|    43|\n",
            "|2014|    4|  9|    1705|       45|    1839|       34|     WN| N360SW|   344|   PDX| SJC|      83|     569|  17|     5|\n",
            "|2014|    3|  9|     754|       -1|    1015|        1|     AS| N612AS|   522|   SEA| BUR|     127|     937|   7|    54|\n",
            "+----+-----+---+--------+---------+--------+---------+-------+-------+------+------+----+--------+--------+----+------+\n",
            "only showing top 5 rows\n",
            "\n"
          ]
        }
      ]
    },
    {
      "cell_type": "markdown",
      "metadata": {
        "id": "ypM2fsdNOlra"
      },
      "source": [
        "##### $\\rightarrow$ Print the size of the DataFrame."
      ]
    },
    {
      "cell_type": "code",
      "metadata": {
        "id": "9waKhbWSqT3Y",
        "colab": {
          "base_uri": "https://localhost:8080/"
        },
        "outputId": "ed68178e-9274-4be0-b65a-c97c72e431b4"
      },
      "source": [
        "print((df.count(), len(df.columns)))"
      ],
      "execution_count": 59,
      "outputs": [
        {
          "output_type": "stream",
          "name": "stdout",
          "text": [
            "(10000, 16)\n"
          ]
        }
      ]
    },
    {
      "cell_type": "markdown",
      "metadata": {
        "id": "dj2T0PAfeqcW"
      },
      "source": [
        "##### $\\rightarrow$ Check the data types to see how it infered the schema."
      ]
    },
    {
      "cell_type": "code",
      "metadata": {
        "colab": {
          "base_uri": "https://localhost:8080/"
        },
        "id": "feKTjz4OP8IS",
        "outputId": "a8e5aaf9-3df5-4fa0-a8f7-d28f11855a63"
      },
      "source": [
        "df.dtypes"
      ],
      "execution_count": 60,
      "outputs": [
        {
          "output_type": "execute_result",
          "data": {
            "text/plain": [
              "[('year', 'int'),\n",
              " ('month', 'int'),\n",
              " ('day', 'int'),\n",
              " ('dep_time', 'string'),\n",
              " ('dep_delay', 'string'),\n",
              " ('arr_time', 'string'),\n",
              " ('arr_delay', 'string'),\n",
              " ('carrier', 'string'),\n",
              " ('tailnum', 'string'),\n",
              " ('flight', 'int'),\n",
              " ('origin', 'string'),\n",
              " ('dest', 'string'),\n",
              " ('air_time', 'string'),\n",
              " ('distance', 'int'),\n",
              " ('hour', 'string'),\n",
              " ('minute', 'string')]"
            ]
          },
          "metadata": {},
          "execution_count": 60
        }
      ]
    },
    {
      "cell_type": "markdown",
      "metadata": {
        "id": "qEfwJE7JewkT"
      },
      "source": [
        "##### $\\rightarrow$ This is incorrect, so we need to specify the schema explicitly."
      ]
    },
    {
      "cell_type": "code",
      "metadata": {
        "id": "fPs1Lr7bRrS0"
      },
      "source": [
        "schema = StructType([\n",
        "    StructField('year', IntegerType()),\n",
        "    StructField('month', IntegerType()),\n",
        "    StructField('day', IntegerType()),\n",
        "    StructField('dep_time', FloatType()),\n",
        "    StructField('dep_delay', FloatType()),\n",
        "    StructField('arr_time', FloatType()),\n",
        "    StructField('arr_delay', FloatType()),\n",
        "    StructField('carrier', StringType()),\n",
        "    StructField('tailnum', StringType()),\n",
        "    StructField('flight', IntegerType()),\n",
        "    StructField('origin', StringType()),\n",
        "    StructField('dest', StringType()),\n",
        "    StructField('air_time', FloatType()),\n",
        "    StructField('distance', IntegerType()),\n",
        "    StructField('hour', IntegerType()),\n",
        "    StructField('minute', IntegerType())])"
      ],
      "execution_count": 61,
      "outputs": []
    },
    {
      "cell_type": "markdown",
      "metadata": {
        "id": "CEuDB7roe1tJ"
      },
      "source": [
        "##### $\\rightarrow$ Reload the file using this schema and check the data types"
      ]
    },
    {
      "cell_type": "code",
      "metadata": {
        "id": "gtEYh7suQhjU"
      },
      "source": [
        "df = spark\\\n",
        "  .read\\\n",
        "  .option(\"header\", \"true\")\\\n",
        "  .schema(schema)\\\n",
        "  .csv(\"flights_small.csv\")"
      ],
      "execution_count": 62,
      "outputs": []
    },
    {
      "cell_type": "code",
      "metadata": {
        "colab": {
          "base_uri": "https://localhost:8080/"
        },
        "id": "7PVrPGAaTLLo",
        "outputId": "3904f647-69a1-4f42-d3e9-e77a5c99c62e"
      },
      "source": [
        "df.dtypes"
      ],
      "execution_count": 63,
      "outputs": [
        {
          "output_type": "execute_result",
          "data": {
            "text/plain": [
              "[('year', 'int'),\n",
              " ('month', 'int'),\n",
              " ('day', 'int'),\n",
              " ('dep_time', 'float'),\n",
              " ('dep_delay', 'float'),\n",
              " ('arr_time', 'float'),\n",
              " ('arr_delay', 'float'),\n",
              " ('carrier', 'string'),\n",
              " ('tailnum', 'string'),\n",
              " ('flight', 'int'),\n",
              " ('origin', 'string'),\n",
              " ('dest', 'string'),\n",
              " ('air_time', 'float'),\n",
              " ('distance', 'int'),\n",
              " ('hour', 'int'),\n",
              " ('minute', 'int')]"
            ]
          },
          "metadata": {},
          "execution_count": 63
        }
      ]
    },
    {
      "cell_type": "code",
      "metadata": {
        "id": "erjF3mBmneq5"
      },
      "source": [
        "#We also could have altered the type of each column using the following approach:\n",
        "#df = df.withColumn(\"origin\", df.origin.cast(\"integer\"))"
      ],
      "execution_count": 64,
      "outputs": []
    },
    {
      "cell_type": "markdown",
      "metadata": {
        "id": "jg9zYiO0hS0L"
      },
      "source": [
        "### Operations with DataFrames"
      ]
    },
    {
      "cell_type": "markdown",
      "metadata": {
        "id": "wtjObn-7hYqJ"
      },
      "source": [
        "##### $\\rightarrow$ Count the number of flights originating from each airport."
      ]
    },
    {
      "cell_type": "code",
      "metadata": {
        "colab": {
          "base_uri": "https://localhost:8080/"
        },
        "id": "dsZorZf8hcnI",
        "outputId": "6171c4e6-1132-4f1e-b92c-773cfc3da39b"
      },
      "source": [
        "df.groupBy('origin').count()"
      ],
      "execution_count": 65,
      "outputs": [
        {
          "output_type": "execute_result",
          "data": {
            "text/plain": [
              "DataFrame[origin: string, count: bigint]"
            ]
          },
          "metadata": {},
          "execution_count": 65
        }
      ]
    },
    {
      "cell_type": "markdown",
      "metadata": {
        "id": "6Oaipt3Vj_NJ"
      },
      "source": [
        "This did not do anything. We can use `explain` to see how Spark is planning to execute the operation."
      ]
    },
    {
      "cell_type": "code",
      "metadata": {
        "colab": {
          "base_uri": "https://localhost:8080/"
        },
        "id": "qD94a85Ckmw-",
        "outputId": "97248645-ccc0-4a28-924c-e0df0b4eb754"
      },
      "source": [
        "df.groupBy('origin').count().explain()"
      ],
      "execution_count": 66,
      "outputs": [
        {
          "output_type": "stream",
          "name": "stdout",
          "text": [
            "== Physical Plan ==\n",
            "AdaptiveSparkPlan isFinalPlan=false\n",
            "+- HashAggregate(keys=[origin#1604], functions=[count(1)])\n",
            "   +- Exchange hashpartitioning(origin#1604, 200), ENSURE_REQUIREMENTS, [id=#919]\n",
            "      +- HashAggregate(keys=[origin#1604], functions=[partial_count(1)])\n",
            "         +- FileScan csv [origin#1604] Batched: false, DataFilters: [], Format: CSV, Location: InMemoryFileIndex(1 paths)[file:/content/flights_small.csv], PartitionFilters: [], PushedFilters: [], ReadSchema: struct<origin:string>\n",
            "\n",
            "\n"
          ]
        }
      ]
    },
    {
      "cell_type": "markdown",
      "metadata": {
        "id": "1mVlvf1DmtSA"
      },
      "source": [
        "##### $\\rightarrow$ Use `show` to show the results of the computation."
      ]
    },
    {
      "cell_type": "code",
      "metadata": {
        "colab": {
          "base_uri": "https://localhost:8080/"
        },
        "id": "JX-228mKijoy",
        "outputId": "bd51544a-c486-4b47-e230-b5ebc37493ff"
      },
      "source": [
        "df.groupBy('origin').count().show()"
      ],
      "execution_count": 67,
      "outputs": [
        {
          "output_type": "stream",
          "name": "stdout",
          "text": [
            "+------+-----+\n",
            "|origin|count|\n",
            "+------+-----+\n",
            "|   SEA| 6754|\n",
            "|   PDX| 3246|\n",
            "+------+-----+\n",
            "\n"
          ]
        }
      ]
    },
    {
      "cell_type": "markdown",
      "metadata": {
        "id": "mpMDzmhLe8jL"
      },
      "source": [
        "## Tables and SQL"
      ]
    },
    {
      "cell_type": "markdown",
      "metadata": {
        "id": "MkiMELvLPCH-"
      },
      "source": [
        "First note that we do not have any data tables in the `SparkSession`"
      ]
    },
    {
      "cell_type": "code",
      "metadata": {
        "colab": {
          "base_uri": "https://localhost:8080/"
        },
        "id": "jmptFfCcPMJI",
        "outputId": "eb8fa523-ea2b-432d-8109-ecb349e78e06"
      },
      "source": [
        "spark.catalog.listTables()"
      ],
      "execution_count": 68,
      "outputs": [
        {
          "output_type": "execute_result",
          "data": {
            "text/plain": [
              "[Table(name='flights', database=None, description=None, tableType='TEMPORARY', isTemporary=True)]"
            ]
          },
          "metadata": {},
          "execution_count": 68
        }
      ]
    },
    {
      "cell_type": "markdown",
      "metadata": {
        "id": "NTkrkra1m8Ls"
      },
      "source": [
        "##### $\\rightarrow$ Create a table for the data called `flights`."
      ]
    },
    {
      "cell_type": "code",
      "metadata": {
        "id": "cbQyp1fGnBSz"
      },
      "source": [
        "df.createOrReplaceTempView(\"flights\")"
      ],
      "execution_count": 69,
      "outputs": []
    },
    {
      "cell_type": "markdown",
      "metadata": {
        "id": "GO42IyndnSsh"
      },
      "source": [
        "Show that we now have a table. "
      ]
    },
    {
      "cell_type": "code",
      "metadata": {
        "colab": {
          "base_uri": "https://localhost:8080/"
        },
        "id": "FJtRBsd7nRyx",
        "outputId": "d439eaec-a45f-4274-e737-db0890fe0010"
      },
      "source": [
        "spark.catalog.listTables()"
      ],
      "execution_count": 70,
      "outputs": [
        {
          "output_type": "execute_result",
          "data": {
            "text/plain": [
              "[Table(name='flights', database=None, description=None, tableType='TEMPORARY', isTemporary=True)]"
            ]
          },
          "metadata": {},
          "execution_count": 70
        }
      ]
    },
    {
      "cell_type": "markdown",
      "metadata": {
        "id": "rOqeTKbuPm_4"
      },
      "source": [
        "We can use SQL to specify operations on the data."
      ]
    },
    {
      "cell_type": "markdown",
      "metadata": {
        "id": "eBpz_voTPsrk"
      },
      "source": [
        "##### $\\rightarrow$ Again count the number of flights originating from each airport, but now use SQL syntax."
      ]
    },
    {
      "cell_type": "code",
      "metadata": {
        "colab": {
          "base_uri": "https://localhost:8080/"
        },
        "id": "ITd4xRCCpFak",
        "outputId": "51e1ef06-c7ef-426b-c581-0c0681798e8c"
      },
      "source": [
        "spark.sql(\"SELECT origin, COUNT(*) \\\n",
        "FROM flights \\\n",
        "GROUP BY origin\").show()"
      ],
      "execution_count": 71,
      "outputs": [
        {
          "output_type": "stream",
          "name": "stdout",
          "text": [
            "+------+--------+\n",
            "|origin|count(1)|\n",
            "+------+--------+\n",
            "|   SEA|    6754|\n",
            "|   PDX|    3246|\n",
            "+------+--------+\n",
            "\n"
          ]
        }
      ]
    },
    {
      "cell_type": "markdown",
      "metadata": {
        "id": "KxX_n6HxP8pR"
      },
      "source": [
        "##### $\\rightarrow$ Show how Spark planned to perform the operation."
      ]
    },
    {
      "cell_type": "code",
      "metadata": {
        "colab": {
          "base_uri": "https://localhost:8080/"
        },
        "id": "oWe7hYEmoaX8",
        "outputId": "457c67e6-883d-41f5-d5a2-badbbb7d9311"
      },
      "source": [
        "spark.sql(\"SELECT origin, COUNT(*) \\\n",
        "FROM flights \\\n",
        "GROUP BY origin\").explain()"
      ],
      "execution_count": 72,
      "outputs": [
        {
          "output_type": "stream",
          "name": "stdout",
          "text": [
            "== Physical Plan ==\n",
            "AdaptiveSparkPlan isFinalPlan=false\n",
            "+- HashAggregate(keys=[origin#1604], functions=[count(1)])\n",
            "   +- Exchange hashpartitioning(origin#1604, 200), ENSURE_REQUIREMENTS, [id=#1031]\n",
            "      +- HashAggregate(keys=[origin#1604], functions=[partial_count(1)])\n",
            "         +- FileScan csv [origin#1604] Batched: false, DataFilters: [], Format: CSV, Location: InMemoryFileIndex(1 paths)[file:/content/flights_small.csv], PartitionFilters: [], PushedFilters: [], ReadSchema: struct<origin:string>\n",
            "\n",
            "\n"
          ]
        }
      ]
    },
    {
      "cell_type": "markdown",
      "metadata": {
        "id": "CSgbTVdJo8T6"
      },
      "source": [
        "Note that this is the same plan that was created using the DataFrame approach."
      ]
    },
    {
      "cell_type": "code",
      "metadata": {
        "colab": {
          "base_uri": "https://localhost:8080/"
        },
        "id": "K0EqNEK7o2FN",
        "outputId": "9b5d1517-6fee-4bba-e0c7-6a7236999679"
      },
      "source": [
        "df.groupBy('origin').count().explain()"
      ],
      "execution_count": 73,
      "outputs": [
        {
          "output_type": "stream",
          "name": "stdout",
          "text": [
            "== Physical Plan ==\n",
            "AdaptiveSparkPlan isFinalPlan=false\n",
            "+- HashAggregate(keys=[origin#1604], functions=[count(1)])\n",
            "   +- Exchange hashpartitioning(origin#1604, 200), ENSURE_REQUIREMENTS, [id=#1044]\n",
            "      +- HashAggregate(keys=[origin#1604], functions=[partial_count(1)])\n",
            "         +- FileScan csv [origin#1604] Batched: false, DataFilters: [], Format: CSV, Location: InMemoryFileIndex(1 paths)[file:/content/flights_small.csv], PartitionFilters: [], PushedFilters: [], ReadSchema: struct<origin:string>\n",
            "\n",
            "\n"
          ]
        }
      ]
    },
    {
      "cell_type": "markdown",
      "metadata": {
        "id": "qyCL5kRLpqnZ"
      },
      "source": [
        "##### $\\rightarrow$ Count the flights between each pair of original and destination airport.\n"
      ]
    },
    {
      "cell_type": "markdown",
      "metadata": {
        "id": "0YFpNcsqQIkE"
      },
      "source": [
        "Using SQL:"
      ]
    },
    {
      "cell_type": "code",
      "metadata": {
        "colab": {
          "base_uri": "https://localhost:8080/"
        },
        "id": "4AqHcO76pt3L",
        "outputId": "76d8010f-1aaa-48bd-dd0a-13b814ce86bc"
      },
      "source": [
        "spark.sql(\"SELECT origin, dest, COUNT(*) \\\n",
        "FROM flights \\\n",
        "GROUP BY origin, dest\").show(5)"
      ],
      "execution_count": 74,
      "outputs": [
        {
          "output_type": "stream",
          "name": "stdout",
          "text": [
            "+------+----+--------+\n",
            "|origin|dest|count(1)|\n",
            "+------+----+--------+\n",
            "|   SEA| RNO|       8|\n",
            "|   SEA| DTW|      98|\n",
            "|   SEA| CLE|       2|\n",
            "|   SEA| LAX|     450|\n",
            "|   PDX| SEA|     144|\n",
            "+------+----+--------+\n",
            "only showing top 5 rows\n",
            "\n"
          ]
        }
      ]
    },
    {
      "cell_type": "markdown",
      "metadata": {
        "id": "ZdGovxBzpy2M"
      },
      "source": [
        "Using the DataFrame:"
      ]
    },
    {
      "cell_type": "code",
      "metadata": {
        "colab": {
          "base_uri": "https://localhost:8080/"
        },
        "id": "c0hOdvNZVQRC",
        "outputId": "18cf330e-9115-4a37-c608-7283cce605bc"
      },
      "source": [
        "df.groupBy(['origin', 'dest']).count().show(5)"
      ],
      "execution_count": 75,
      "outputs": [
        {
          "output_type": "stream",
          "name": "stdout",
          "text": [
            "+------+----+-----+\n",
            "|origin|dest|count|\n",
            "+------+----+-----+\n",
            "|   SEA| RNO|    8|\n",
            "|   SEA| DTW|   98|\n",
            "|   SEA| CLE|    2|\n",
            "|   SEA| LAX|  450|\n",
            "|   PDX| SEA|  144|\n",
            "+------+----+-----+\n",
            "only showing top 5 rows\n",
            "\n"
          ]
        }
      ]
    },
    {
      "cell_type": "markdown",
      "metadata": {
        "id": "KtPACw_vo7V-"
      },
      "source": [
        "## Basic operations"
      ]
    },
    {
      "cell_type": "markdown",
      "metadata": {
        "id": "bcObKbJcQSi8"
      },
      "source": [
        "##### $\\rightarrow$ Compute the mean departure delay `dep_delay` from each airport."
      ]
    },
    {
      "cell_type": "code",
      "metadata": {
        "colab": {
          "base_uri": "https://localhost:8080/"
        },
        "id": "6QyvPgLvSI7z",
        "outputId": "23694168-bec2-42b0-ee4c-f35e7c1da8ac"
      },
      "source": [
        "df.select('dep_delay', 'origin').groupBy('origin').agg(avg('dep_delay')).show()"
      ],
      "execution_count": 76,
      "outputs": [
        {
          "output_type": "stream",
          "name": "stdout",
          "text": [
            "+------+-----------------+\n",
            "|origin|   avg(dep_delay)|\n",
            "+------+-----------------+\n",
            "|   SEA|6.334918983202022|\n",
            "|   PDX|5.513178294573644|\n",
            "+------+-----------------+\n",
            "\n"
          ]
        }
      ]
    },
    {
      "cell_type": "code",
      "metadata": {
        "colab": {
          "base_uri": "https://localhost:8080/"
        },
        "id": "pbsTb84-Q781",
        "outputId": "076295f6-ec76-4318-ba2e-55b3e52959aa"
      },
      "source": [
        "spark.sql(\"SELECT origin, AVG(dep_delay) \\\n",
        "FROM flights \\\n",
        "GROUP BY origin\").show()"
      ],
      "execution_count": 77,
      "outputs": [
        {
          "output_type": "stream",
          "name": "stdout",
          "text": [
            "+------+-----------------+\n",
            "|origin|   avg(dep_delay)|\n",
            "+------+-----------------+\n",
            "|   SEA|6.334918983202022|\n",
            "|   PDX|5.513178294573644|\n",
            "+------+-----------------+\n",
            "\n"
          ]
        }
      ]
    },
    {
      "cell_type": "markdown",
      "metadata": {
        "id": "qgQ6okUouCjI"
      },
      "source": [
        "## Regression"
      ]
    },
    {
      "cell_type": "markdown",
      "metadata": {
        "id": "dqnR-8PMupCQ"
      },
      "source": [
        "We will construct a regression model to predict flight `air_time` from `distance`, `dep_delay`, and `origin`.\n",
        "\n",
        "Constructing linear regression models is done differently in PySpark compared to Sci-kit learn. "
      ]
    },
    {
      "cell_type": "markdown",
      "metadata": {
        "id": "IVuXpw9vv70F"
      },
      "source": [
        "Recall the nature of the flights DataFrame and the data types."
      ]
    },
    {
      "cell_type": "code",
      "metadata": {
        "colab": {
          "base_uri": "https://localhost:8080/"
        },
        "id": "CZ5uknHTumQU",
        "outputId": "080ddf2b-e7de-46b6-8f24-1aa8ba9248dc"
      },
      "source": [
        "df.show(5)"
      ],
      "execution_count": 78,
      "outputs": [
        {
          "output_type": "stream",
          "name": "stdout",
          "text": [
            "+----+-----+---+--------+---------+--------+---------+-------+-------+------+------+----+--------+--------+----+------+\n",
            "|year|month|day|dep_time|dep_delay|arr_time|arr_delay|carrier|tailnum|flight|origin|dest|air_time|distance|hour|minute|\n",
            "+----+-----+---+--------+---------+--------+---------+-------+-------+------+------+----+--------+--------+----+------+\n",
            "|2014|   12|  8|   658.0|     -7.0|   935.0|     -5.0|     VX| N846VA|  1780|   SEA| LAX|   132.0|     954|   6|    58|\n",
            "|2014|    1| 22|  1040.0|      5.0|  1505.0|      5.0|     AS| N559AS|   851|   SEA| HNL|   360.0|    2677|  10|    40|\n",
            "|2014|    3|  9|  1443.0|     -2.0|  1652.0|      2.0|     VX| N847VA|   755|   SEA| SFO|   111.0|     679|  14|    43|\n",
            "|2014|    4|  9|  1705.0|     45.0|  1839.0|     34.0|     WN| N360SW|   344|   PDX| SJC|    83.0|     569|  17|     5|\n",
            "|2014|    3|  9|   754.0|     -1.0|  1015.0|      1.0|     AS| N612AS|   522|   SEA| BUR|   127.0|     937|   7|    54|\n",
            "+----+-----+---+--------+---------+--------+---------+-------+-------+------+------+----+--------+--------+----+------+\n",
            "only showing top 5 rows\n",
            "\n"
          ]
        }
      ]
    },
    {
      "cell_type": "code",
      "metadata": {
        "colab": {
          "base_uri": "https://localhost:8080/"
        },
        "id": "ZGQClp9BwD1M",
        "outputId": "6a973592-d246-443b-e538-bf10b2dbe958"
      },
      "source": [
        "df.dtypes"
      ],
      "execution_count": 79,
      "outputs": [
        {
          "output_type": "execute_result",
          "data": {
            "text/plain": [
              "[('year', 'int'),\n",
              " ('month', 'int'),\n",
              " ('day', 'int'),\n",
              " ('dep_time', 'float'),\n",
              " ('dep_delay', 'float'),\n",
              " ('arr_time', 'float'),\n",
              " ('arr_delay', 'float'),\n",
              " ('carrier', 'string'),\n",
              " ('tailnum', 'string'),\n",
              " ('flight', 'int'),\n",
              " ('origin', 'string'),\n",
              " ('dest', 'string'),\n",
              " ('air_time', 'float'),\n",
              " ('distance', 'int'),\n",
              " ('hour', 'int'),\n",
              " ('minute', 'int')]"
            ]
          },
          "metadata": {},
          "execution_count": 79
        }
      ]
    },
    {
      "cell_type": "markdown",
      "metadata": {
        "id": "OIkJIc-rSVG_"
      },
      "source": [
        "##### $\\rightarrow$ Drop any missing values to avoid errors in the regression analysis."
      ]
    },
    {
      "cell_type": "markdown",
      "metadata": {
        "id": "UXyLR_wVToqz"
      },
      "source": [
        "Count the number of missing values."
      ]
    },
    {
      "cell_type": "code",
      "metadata": {
        "colab": {
          "base_uri": "https://localhost:8080/"
        },
        "id": "Q_2W6qGcTnwL",
        "outputId": "66363c87-fb64-4d2c-9265-a8aabe2a4096"
      },
      "source": [
        "df.select(*(sum(col(c).isNull().cast(\"int\")).alias(c) for c in df.columns)).show()"
      ],
      "execution_count": 80,
      "outputs": [
        {
          "output_type": "stream",
          "name": "stdout",
          "text": [
            "+----+-----+---+--------+---------+--------+---------+-------+-------+------+------+----+--------+--------+----+------+\n",
            "|year|month|day|dep_time|dep_delay|arr_time|arr_delay|carrier|tailnum|flight|origin|dest|air_time|distance|hour|minute|\n",
            "+----+-----+---+--------+---------+--------+---------+-------+-------+------+------+----+--------+--------+----+------+\n",
            "|   0|    0|  0|      48|       48|      55|       75|      0|      0|     0|     0|   0|      75|       0|  48|    48|\n",
            "+----+-----+---+--------+---------+--------+---------+-------+-------+------+------+----+--------+--------+----+------+\n",
            "\n"
          ]
        }
      ]
    },
    {
      "cell_type": "markdown",
      "metadata": {
        "id": "1EiKXeEMTrnB"
      },
      "source": [
        "Drop missing values."
      ]
    },
    {
      "cell_type": "code",
      "metadata": {
        "id": "upehnTnG0_zb"
      },
      "source": [
        "df = df.na.drop()"
      ],
      "execution_count": 81,
      "outputs": []
    },
    {
      "cell_type": "code",
      "metadata": {
        "colab": {
          "base_uri": "https://localhost:8080/"
        },
        "id": "qPF6JfMaVgi5",
        "outputId": "9483e4f1-08de-4344-b187-0f54012983c0"
      },
      "source": [
        "print((df.count(), len(df.columns)))"
      ],
      "execution_count": 82,
      "outputs": [
        {
          "output_type": "stream",
          "name": "stdout",
          "text": [
            "(9925, 16)\n"
          ]
        }
      ]
    },
    {
      "cell_type": "code",
      "metadata": {
        "colab": {
          "base_uri": "https://localhost:8080/"
        },
        "id": "rP56t-vtTWfG",
        "outputId": "c8694bbd-7796-4a5c-bbba-2dfd3261b338"
      },
      "source": [
        "df.select(*(sum(col(c).isNull().cast(\"int\")).alias(c) for c in df.columns)).show()"
      ],
      "execution_count": 83,
      "outputs": [
        {
          "output_type": "stream",
          "name": "stdout",
          "text": [
            "+----+-----+---+--------+---------+--------+---------+-------+-------+------+------+----+--------+--------+----+------+\n",
            "|year|month|day|dep_time|dep_delay|arr_time|arr_delay|carrier|tailnum|flight|origin|dest|air_time|distance|hour|minute|\n",
            "+----+-----+---+--------+---------+--------+---------+-------+-------+------+------+----+--------+--------+----+------+\n",
            "|   0|    0|  0|       0|        0|       0|        0|      0|      0|     0|     0|   0|       0|       0|   0|     0|\n",
            "+----+-----+---+--------+---------+--------+---------+-------+-------+------+------+----+--------+--------+----+------+\n",
            "\n"
          ]
        }
      ]
    },
    {
      "cell_type": "markdown",
      "metadata": {
        "id": "dIRQO7OikoCu"
      },
      "source": [
        "##### $\\rightarrow$ Create training and test splits."
      ]
    },
    {
      "cell_type": "code",
      "metadata": {
        "id": "C263iejniykb"
      },
      "source": [
        "train_data, test_data = df.randomSplit([0.8, 0.2])"
      ],
      "execution_count": 84,
      "outputs": []
    },
    {
      "cell_type": "markdown",
      "metadata": {
        "id": "9mPvzE1SlCqv"
      },
      "source": [
        "### Using a Pipeline for the model"
      ]
    },
    {
      "cell_type": "markdown",
      "metadata": {
        "id": "Wy28IsfVw_L0"
      },
      "source": [
        "#### One-hot-encoding categorical variables"
      ]
    },
    {
      "cell_type": "markdown",
      "metadata": {
        "id": "lzkDTlJxwJV5"
      },
      "source": [
        "In PySpark, categorical variables that are coded as strings, such as `origin` must be explicitly coded as numerical values. We can do this using the `OneHotEncoder` that transforms categorical variables into a vector of 0's and 1's.\n",
        "\n",
        "##### $\\rightarrow$ First create a `StringIndexer` that creates indicies to the different values of `origin`."
      ]
    },
    {
      "cell_type": "code",
      "metadata": {
        "id": "RD5SCUxunYWC"
      },
      "source": [
        "origin_indexer = StringIndexer(inputCol = 'origin', outputCol = 'origin_index')"
      ],
      "execution_count": 85,
      "outputs": []
    },
    {
      "cell_type": "markdown",
      "metadata": {
        "id": "bkotaulHxd-6"
      },
      "source": [
        "##### $\\rightarrow$ Now create the `OneHotEncoder` that will use the indexer to create factor variables that can be used in the regression model."
      ]
    },
    {
      "cell_type": "code",
      "metadata": {
        "id": "Q5iAF8QaofpR"
      },
      "source": [
        "origin_encoder = OneHotEncoder(inputCol='origin_index', outputCol='origin_factor')"
      ],
      "execution_count": 86,
      "outputs": []
    },
    {
      "cell_type": "markdown",
      "metadata": {
        "id": "oY0SQ9_tlNkf"
      },
      "source": [
        "#### Assemble the features"
      ]
    },
    {
      "cell_type": "markdown",
      "metadata": {
        "id": "WnoRSjAelKtK"
      },
      "source": [
        "##### $\\rightarrow$ Use `VectorAssembler` to put together the predictors in the model."
      ]
    },
    {
      "cell_type": "code",
      "metadata": {
        "id": "WN42544PlKtK"
      },
      "source": [
        "assembler = VectorAssembler(inputCols=['distance', 'dep_delay', 'origin_factor'], outputCol='features')"
      ],
      "execution_count": 87,
      "outputs": []
    },
    {
      "cell_type": "markdown",
      "metadata": {
        "id": "J2yHcEdBlVSG"
      },
      "source": [
        "#### Specify the regression model "
      ]
    },
    {
      "cell_type": "markdown",
      "metadata": {
        "id": "HWJkJaI1lgBo"
      },
      "source": [
        "##### $\\rightarrow$ Create a LinearRegression object"
      ]
    },
    {
      "cell_type": "code",
      "metadata": {
        "id": "hpjQtp11lgBp"
      },
      "source": [
        "lin_reg = LinearRegression(featuresCol = 'features', labelCol = 'air_time')"
      ],
      "execution_count": 88,
      "outputs": []
    },
    {
      "cell_type": "markdown",
      "metadata": {
        "id": "KKt1nFLXlocv"
      },
      "source": [
        "#### Specify the analysis pipeline"
      ]
    },
    {
      "cell_type": "markdown",
      "metadata": {
        "id": "LlwQ7jxdyGud"
      },
      "source": [
        "##### $\\rightarrow$ Create a `Pipeline` specifies the operations we want to perform on the data. Here it is only the one-hot-encoding of `origin`."
      ]
    },
    {
      "cell_type": "code",
      "metadata": {
        "id": "Qy9hKcTdlzmS"
      },
      "source": [
        "pipeline = Pipeline(stages=[origin_indexer, origin_encoder, assembler, lin_reg])"
      ],
      "execution_count": 89,
      "outputs": []
    },
    {
      "cell_type": "markdown",
      "metadata": {
        "id": "4O7pGGP-mGJl"
      },
      "source": [
        "#### Fit the model and view the coefficients"
      ]
    },
    {
      "cell_type": "code",
      "metadata": {
        "id": "-Pf-0JQumEqf"
      },
      "source": [
        "pipeline = pipeline.fit(train_data)"
      ],
      "execution_count": 90,
      "outputs": []
    },
    {
      "cell_type": "code",
      "metadata": {
        "colab": {
          "base_uri": "https://localhost:8080/"
        },
        "id": "-7zbCEzRm0pp",
        "outputId": "914c41b1-6ef0-4255-d99b-49c79374ae7b"
      },
      "source": [
        "print(pipeline.stages[3].intercept)       \n",
        "print(pipeline.stages[3].coefficients)    \n",
        "print(pipeline.stages[3].summary.pValues) "
      ],
      "execution_count": 91,
      "outputs": [
        {
          "output_type": "stream",
          "name": "stdout",
          "text": [
            "19.96246137135938\n",
            "[0.10967960944808777,-0.015918887043662032,0.7330472674903038]\n",
            "[0.0, 0.0010387337489985438, 0.01413992538255937, 0.0]\n"
          ]
        }
      ]
    },
    {
      "cell_type": "markdown",
      "metadata": {
        "id": "zm6SF2s0ms4Z"
      },
      "source": [
        "#### Make predictions and evaluate the model"
      ]
    },
    {
      "cell_type": "code",
      "metadata": {
        "id": "f_ns0ri9mEqg"
      },
      "source": [
        "predictions = pipeline.transform(test_data)"
      ],
      "execution_count": 92,
      "outputs": []
    },
    {
      "cell_type": "code",
      "metadata": {
        "colab": {
          "base_uri": "https://localhost:8080/"
        },
        "id": "86tofPYumm2g",
        "outputId": "40f5d572-a7ef-43e2-adc0-c37d200f3438"
      },
      "source": [
        "predictions.show(5)"
      ],
      "execution_count": 93,
      "outputs": [
        {
          "output_type": "stream",
          "name": "stdout",
          "text": [
            "+----+-----+---+--------+---------+--------+---------+-------+-------+------+------+----+--------+--------+----+------+------------+-------------+-----------------+------------------+\n",
            "|year|month|day|dep_time|dep_delay|arr_time|arr_delay|carrier|tailnum|flight|origin|dest|air_time|distance|hour|minute|origin_index|origin_factor|         features|        prediction|\n",
            "+----+-----+---+--------+---------+--------+---------+-------+-------+------+------+----+--------+--------+----+------+------------+-------------+-----------------+------------------+\n",
            "|2014|    1|  1|   639.0|     -1.0|  1216.0|    -10.0|     AS| N442AS|   668|   SEA| DFW|   189.0|    1660|   6|    39|         0.0|(1,[0],[1.0])|[1660.0,-1.0,1.0]|202.77957920971903|\n",
            "|2014|    1|  1|   825.0|     -5.0|  1412.0|     -3.0|     AA| N3BDAA|   312|   SEA| DFW|   183.0|    1660|   8|    25|         0.0|(1,[0],[1.0])|[1660.0,-5.0,1.0]|202.84325475789367|\n",
            "|2014|    1|  1|  1223.0|     57.0|  1814.0|     54.0|     UA| N470UA|   646|   PDX| ORD|   201.0|    1739|  12|    23|         1.0|    (1,[],[])|[1739.0,57.0,0.0]|209.78792564009527|\n",
            "|2014|    1|  1|  1426.0|     36.0|  2014.0|     34.0|     AA| N3JKAA|  2269|   SEA| DFW|   193.0|    1660|  14|    26|         0.0|(1,[0],[1.0])|[1660.0,36.0,1.0]|202.19058038910353|\n",
            "|2014|    1|  1|  1629.0|      4.0|  1834.0|     -1.0|     OO| N215AG|  3494|   PDX| SBA|   105.0|     784|  16|    29|         1.0|    (1,[],[])|  [784.0,4.0,0.0]|105.88759963048555|\n",
            "+----+-----+---+--------+---------+--------+---------+-------+-------+------+------+----+--------+--------+----+------+------------+-------------+-----------------+------------------+\n",
            "only showing top 5 rows\n",
            "\n"
          ]
        }
      ]
    },
    {
      "cell_type": "markdown",
      "metadata": {
        "id": "nGFQCKWkmbVO"
      },
      "source": [
        "##### $\\rightarrow$ Create a RegressionEvaluator to compute the RMSE"
      ]
    },
    {
      "cell_type": "code",
      "metadata": {
        "id": "Hwfq6dP7mbVO"
      },
      "source": [
        "eval = RegressionEvaluator(labelCol=\"air_time\", predictionCol=\"prediction\", metricName=\"rmse\")"
      ],
      "execution_count": 94,
      "outputs": []
    },
    {
      "cell_type": "markdown",
      "metadata": {
        "id": "eFWWKoqNmbVO"
      },
      "source": [
        "##### $\\rightarrow$ Do the calculation of the RMSE"
      ]
    },
    {
      "cell_type": "code",
      "metadata": {
        "colab": {
          "base_uri": "https://localhost:8080/"
        },
        "id": "Rl6mCnCambVO",
        "outputId": "af8ea749-94e8-4131-d0a8-bb84bb57f9e2"
      },
      "source": [
        "rmse = eval.evaluate(predictions)\n",
        "print(\"RMSE: %.3f\" % rmse)"
      ],
      "execution_count": 95,
      "outputs": [
        {
          "output_type": "stream",
          "name": "stdout",
          "text": [
            "RMSE: 11.955\n"
          ]
        }
      ]
    },
    {
      "cell_type": "markdown",
      "metadata": {
        "id": "s9uXzgSjmg6t"
      },
      "source": [
        "##### $\\rightarrow$ Update the evaluation metric to compute the R-squared"
      ]
    },
    {
      "cell_type": "code",
      "metadata": {
        "colab": {
          "base_uri": "https://localhost:8080/"
        },
        "id": "HZmiVapimg6u",
        "outputId": "f1afb3a0-e000-49f7-bf82-59efdbf9b8a1"
      },
      "source": [
        "r2 = eval.evaluate(predictions, {eval.metricName: \"r2\"})\n",
        "print(\"r2: %.3f\" %r2)"
      ],
      "execution_count": 96,
      "outputs": [
        {
          "output_type": "stream",
          "name": "stdout",
          "text": [
            "r2: 0.972\n"
          ]
        }
      ]
    },
    {
      "cell_type": "markdown",
      "metadata": {
        "id": "d2RVmWsznT-h"
      },
      "source": [
        "#### Output the results to Pandas for visualization"
      ]
    },
    {
      "cell_type": "markdown",
      "metadata": {
        "id": "Swzf761TnSYb"
      },
      "source": [
        "##### $\\rightarrow$ Output the Spark `pred` DataFrame to a Pandas DataFrame"
      ]
    },
    {
      "cell_type": "code",
      "metadata": {
        "id": "jU6oKQ-nnSYb"
      },
      "source": [
        "df_reg = predictions.toPandas()"
      ],
      "execution_count": 97,
      "outputs": []
    },
    {
      "cell_type": "markdown",
      "metadata": {
        "id": "b5bTPIjQnSYb"
      },
      "source": [
        "##### $\\rightarrow$ Examine the Pandas DataFrame"
      ]
    },
    {
      "cell_type": "code",
      "metadata": {
        "colab": {
          "base_uri": "https://localhost:8080/",
          "height": 313
        },
        "id": "A7iWFRRwnSYb",
        "outputId": "2856ecee-4779-47fe-8b0f-8d66e20d286b"
      },
      "source": [
        "df_reg.head()"
      ],
      "execution_count": 98,
      "outputs": [
        {
          "output_type": "execute_result",
          "data": {
            "text/html": [
              "<div>\n",
              "<style scoped>\n",
              "    .dataframe tbody tr th:only-of-type {\n",
              "        vertical-align: middle;\n",
              "    }\n",
              "\n",
              "    .dataframe tbody tr th {\n",
              "        vertical-align: top;\n",
              "    }\n",
              "\n",
              "    .dataframe thead th {\n",
              "        text-align: right;\n",
              "    }\n",
              "</style>\n",
              "<table border=\"1\" class=\"dataframe\">\n",
              "  <thead>\n",
              "    <tr style=\"text-align: right;\">\n",
              "      <th></th>\n",
              "      <th>year</th>\n",
              "      <th>month</th>\n",
              "      <th>day</th>\n",
              "      <th>dep_time</th>\n",
              "      <th>dep_delay</th>\n",
              "      <th>arr_time</th>\n",
              "      <th>arr_delay</th>\n",
              "      <th>carrier</th>\n",
              "      <th>tailnum</th>\n",
              "      <th>flight</th>\n",
              "      <th>origin</th>\n",
              "      <th>dest</th>\n",
              "      <th>air_time</th>\n",
              "      <th>distance</th>\n",
              "      <th>hour</th>\n",
              "      <th>minute</th>\n",
              "      <th>origin_index</th>\n",
              "      <th>origin_factor</th>\n",
              "      <th>features</th>\n",
              "      <th>prediction</th>\n",
              "    </tr>\n",
              "  </thead>\n",
              "  <tbody>\n",
              "    <tr>\n",
              "      <th>0</th>\n",
              "      <td>2014</td>\n",
              "      <td>1</td>\n",
              "      <td>1</td>\n",
              "      <td>639.0</td>\n",
              "      <td>-1.0</td>\n",
              "      <td>1216.0</td>\n",
              "      <td>-10.0</td>\n",
              "      <td>AS</td>\n",
              "      <td>N442AS</td>\n",
              "      <td>668</td>\n",
              "      <td>SEA</td>\n",
              "      <td>DFW</td>\n",
              "      <td>189.0</td>\n",
              "      <td>1660</td>\n",
              "      <td>6</td>\n",
              "      <td>39</td>\n",
              "      <td>0.0</td>\n",
              "      <td>(1.0)</td>\n",
              "      <td>[1660.0, -1.0, 1.0]</td>\n",
              "      <td>202.779579</td>\n",
              "    </tr>\n",
              "    <tr>\n",
              "      <th>1</th>\n",
              "      <td>2014</td>\n",
              "      <td>1</td>\n",
              "      <td>1</td>\n",
              "      <td>825.0</td>\n",
              "      <td>-5.0</td>\n",
              "      <td>1412.0</td>\n",
              "      <td>-3.0</td>\n",
              "      <td>AA</td>\n",
              "      <td>N3BDAA</td>\n",
              "      <td>312</td>\n",
              "      <td>SEA</td>\n",
              "      <td>DFW</td>\n",
              "      <td>183.0</td>\n",
              "      <td>1660</td>\n",
              "      <td>8</td>\n",
              "      <td>25</td>\n",
              "      <td>0.0</td>\n",
              "      <td>(1.0)</td>\n",
              "      <td>[1660.0, -5.0, 1.0]</td>\n",
              "      <td>202.843255</td>\n",
              "    </tr>\n",
              "    <tr>\n",
              "      <th>2</th>\n",
              "      <td>2014</td>\n",
              "      <td>1</td>\n",
              "      <td>1</td>\n",
              "      <td>1223.0</td>\n",
              "      <td>57.0</td>\n",
              "      <td>1814.0</td>\n",
              "      <td>54.0</td>\n",
              "      <td>UA</td>\n",
              "      <td>N470UA</td>\n",
              "      <td>646</td>\n",
              "      <td>PDX</td>\n",
              "      <td>ORD</td>\n",
              "      <td>201.0</td>\n",
              "      <td>1739</td>\n",
              "      <td>12</td>\n",
              "      <td>23</td>\n",
              "      <td>1.0</td>\n",
              "      <td>(0.0)</td>\n",
              "      <td>[1739.0, 57.0, 0.0]</td>\n",
              "      <td>209.787926</td>\n",
              "    </tr>\n",
              "    <tr>\n",
              "      <th>3</th>\n",
              "      <td>2014</td>\n",
              "      <td>1</td>\n",
              "      <td>1</td>\n",
              "      <td>1426.0</td>\n",
              "      <td>36.0</td>\n",
              "      <td>2014.0</td>\n",
              "      <td>34.0</td>\n",
              "      <td>AA</td>\n",
              "      <td>N3JKAA</td>\n",
              "      <td>2269</td>\n",
              "      <td>SEA</td>\n",
              "      <td>DFW</td>\n",
              "      <td>193.0</td>\n",
              "      <td>1660</td>\n",
              "      <td>14</td>\n",
              "      <td>26</td>\n",
              "      <td>0.0</td>\n",
              "      <td>(1.0)</td>\n",
              "      <td>[1660.0, 36.0, 1.0]</td>\n",
              "      <td>202.190580</td>\n",
              "    </tr>\n",
              "    <tr>\n",
              "      <th>4</th>\n",
              "      <td>2014</td>\n",
              "      <td>1</td>\n",
              "      <td>1</td>\n",
              "      <td>1629.0</td>\n",
              "      <td>4.0</td>\n",
              "      <td>1834.0</td>\n",
              "      <td>-1.0</td>\n",
              "      <td>OO</td>\n",
              "      <td>N215AG</td>\n",
              "      <td>3494</td>\n",
              "      <td>PDX</td>\n",
              "      <td>SBA</td>\n",
              "      <td>105.0</td>\n",
              "      <td>784</td>\n",
              "      <td>16</td>\n",
              "      <td>29</td>\n",
              "      <td>1.0</td>\n",
              "      <td>(0.0)</td>\n",
              "      <td>[784.0, 4.0, 0.0]</td>\n",
              "      <td>105.887600</td>\n",
              "    </tr>\n",
              "  </tbody>\n",
              "</table>\n",
              "</div>"
            ],
            "text/plain": [
              "   year  month  day  ...  origin_factor             features  prediction\n",
              "0  2014      1    1  ...          (1.0)  [1660.0, -1.0, 1.0]  202.779579\n",
              "1  2014      1    1  ...          (1.0)  [1660.0, -5.0, 1.0]  202.843255\n",
              "2  2014      1    1  ...          (0.0)  [1739.0, 57.0, 0.0]  209.787926\n",
              "3  2014      1    1  ...          (1.0)  [1660.0, 36.0, 1.0]  202.190580\n",
              "4  2014      1    1  ...          (0.0)    [784.0, 4.0, 0.0]  105.887600\n",
              "\n",
              "[5 rows x 20 columns]"
            ]
          },
          "metadata": {},
          "execution_count": 98
        }
      ]
    },
    {
      "cell_type": "code",
      "metadata": {
        "id": "q3hkEdPEnLk8",
        "colab": {
          "base_uri": "https://localhost:8080/"
        },
        "outputId": "8398b309-aedb-4fd0-a6c9-82ce4d682076"
      },
      "source": [
        "df_reg.info()"
      ],
      "execution_count": 99,
      "outputs": [
        {
          "output_type": "stream",
          "name": "stdout",
          "text": [
            "<class 'pandas.core.frame.DataFrame'>\n",
            "RangeIndex: 2027 entries, 0 to 2026\n",
            "Data columns (total 20 columns):\n",
            " #   Column         Non-Null Count  Dtype  \n",
            "---  ------         --------------  -----  \n",
            " 0   year           2027 non-null   int32  \n",
            " 1   month          2027 non-null   int32  \n",
            " 2   day            2027 non-null   int32  \n",
            " 3   dep_time       2027 non-null   float32\n",
            " 4   dep_delay      2027 non-null   float32\n",
            " 5   arr_time       2027 non-null   float32\n",
            " 6   arr_delay      2027 non-null   float32\n",
            " 7   carrier        2027 non-null   object \n",
            " 8   tailnum        2027 non-null   object \n",
            " 9   flight         2027 non-null   int32  \n",
            " 10  origin         2027 non-null   object \n",
            " 11  dest           2027 non-null   object \n",
            " 12  air_time       2027 non-null   float32\n",
            " 13  distance       2027 non-null   int32  \n",
            " 14  hour           2027 non-null   int32  \n",
            " 15  minute         2027 non-null   int32  \n",
            " 16  origin_index   2027 non-null   float64\n",
            " 17  origin_factor  2027 non-null   object \n",
            " 18  features       2027 non-null   object \n",
            " 19  prediction     2027 non-null   float64\n",
            "dtypes: float32(5), float64(2), int32(7), object(6)\n",
            "memory usage: 221.8+ KB\n"
          ]
        }
      ]
    },
    {
      "cell_type": "markdown",
      "metadata": {
        "id": "aOnKjGpnnLk9"
      },
      "source": [
        "##### $\\rightarrow$ Plot the measured `air_time` vs. the prediction"
      ]
    },
    {
      "cell_type": "code",
      "metadata": {
        "colab": {
          "base_uri": "https://localhost:8080/",
          "height": 284
        },
        "id": "IqxGiyqjnLk9",
        "outputId": "89c8fc7e-0541-490f-81e5-724dcf0af821"
      },
      "source": [
        "df_reg.plot(kind = 'scatter', x = 'air_time', y = 'prediction');\n",
        "\n",
        "plt.xlabel('Air time (minutes)', fontsize = 15)\n",
        "plt.ylabel('Predicted air time (minutes)', fontsize = 15);"
      ],
      "execution_count": 100,
      "outputs": [
        {
          "output_type": "display_data",
          "data": {
            "image/png": "[encoded data removed]",
            "text/plain": [
              "<Figure size 432x288 with 1 Axes>"
            ]
          },
          "metadata": {
            "needs_background": "light"
          }
        }
      ]
    },
    {
      "cell_type": "code",
      "metadata": {
        "id": "A5_hEF_bXal3"
      },
      "source": [
        ""
      ],
      "execution_count": 100,
      "outputs": []
    }
  ]
}