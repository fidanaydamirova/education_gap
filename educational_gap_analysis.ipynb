{
  "nbformat": 4,
  "nbformat_minor": 0,
  "metadata": {
    "colab": {
      "name": "educational_gap_analysis.ipynb",
      "provenance": [],
      "collapsed_sections": [],
      "include_colab_link": true
    },
    "kernelspec": {
      "name": "python3",
      "display_name": "Python 3"
    },
    "language_info": {
      "name": "python"
    }
  },
  "cells": [
    {
      "cell_type": "markdown",
      "metadata": {
        "id": "view-in-github",
        "colab_type": "text"
      },
      "source": [
        "<a href=\"https://colab.research.google.com/github/fidanaydamirova/education_gap/blob/main/educational_gap_analysis.ipynb\" target=\"_parent\"><img src=\"https://colab.research.google.com/assets/colab-badge.svg\" alt=\"Open In Colab\"/></a>"
      ]
    },
    {
      "cell_type": "markdown",
      "metadata": {
        "id": "ARj4Q9VTNgzH"
      },
      "source": [
        "# Set up the notebook"
      ]
    },
    {
      "cell_type": "markdown",
      "metadata": {
        "id": "LPI4rihM804-"
      },
      "source": [
        "Install "
      ]
    },
    {
      "cell_type": "code",
      "metadata": {
        "colab": {
          "base_uri": "https://localhost:8080/"
        },
        "id": "v85nfRMl89IO",
        "outputId": "1540c557-d274-4410-f2f3-7a18b5e9af8b"
      },
      "source": [
        "#pyspark\n",
        "!pip install pyspark\n",
        "\n",
        "#java virtual machine\n",
        "!apt install openjdk-8-jdk-headless &> /dev/null"
      ],
      "execution_count": 1,
      "outputs": [
        {
          "output_type": "stream",
          "name": "stdout",
          "text": [
            "Collecting pyspark\n",
            "  Downloading pyspark-3.2.0.tar.gz (281.3 MB)\n",
            "\u001b[K     |████████████████████████████████| 281.3 MB 38 kB/s \n",
            "\u001b[?25hCollecting py4j==0.10.9.2\n",
            "  Downloading py4j-0.10.9.2-py2.py3-none-any.whl (198 kB)\n",
            "\u001b[K     |████████████████████████████████| 198 kB 50.1 MB/s \n",
            "\u001b[?25hBuilding wheels for collected packages: pyspark\n",
            "  Building wheel for pyspark (setup.py) ... \u001b[?25l\u001b[?25hdone\n",
            "  Created wheel for pyspark: filename=pyspark-3.2.0-py2.py3-none-any.whl size=281805912 sha256=f0ef226baf70b2bfa8df3aae4e31a8efe99bd20e0669befa40f329bfe7b9dba8\n",
            "  Stored in directory: /root/.cache/pip/wheels/0b/de/d2/9be5d59d7331c6c2a7c1b6d1a4f463ce107332b1ecd4e80718\n",
            "Successfully built pyspark\n",
            "Installing collected packages: py4j, pyspark\n",
            "Successfully installed py4j-0.10.9.2 pyspark-3.2.0\n"
          ]
        }
      ]
    },
    {
      "cell_type": "markdown",
      "metadata": {
        "id": "bvYSy_-wNmll"
      },
      "source": [
        "Import the necessary libraries."
      ]
    },
    {
      "cell_type": "code",
      "metadata": {
        "id": "FEHX2ks79bxo"
      },
      "source": [
        "import os\n",
        "\n",
        "from pyspark.sql import SparkSession\n",
        "\n",
        "from pyspark.sql.types import StructType, IntegerType, FloatType, StructField, StringType\n",
        "\n",
        "from pyspark.ml.feature import VectorAssembler, StringIndexer, OneHotEncoder\n",
        "from pyspark.ml.regression import LinearRegression\n",
        "from pyspark.ml.evaluation import RegressionEvaluator\n",
        "\n",
        "from pyspark.ml import Pipeline\n",
        "\n",
        "from pyspark.sql.functions import isnan, when, count, col, avg, sum, round, stddev\n",
        "\n",
        "import matplotlib.pyplot as plt"
      ],
      "execution_count": 2,
      "outputs": []
    },
    {
      "cell_type": "markdown",
      "metadata": {
        "id": "0S1-5wG--fpQ"
      },
      "source": [
        "Set the java environmental variable"
      ]
    },
    {
      "cell_type": "code",
      "metadata": {
        "id": "onLmZzib-YK-"
      },
      "source": [
        "os.environ[\"JAVA_HOME\"] = \"/usr/lib/jvm/java-8-openjdk-amd64\""
      ],
      "execution_count": 3,
      "outputs": []
    },
    {
      "cell_type": "markdown",
      "metadata": {
        "id": "gCYOE2xx-bYq"
      },
      "source": [
        "## Create a SparkSesssion"
      ]
    },
    {
      "cell_type": "markdown",
      "metadata": {
        "id": "T04Cv7YV-pht"
      },
      "source": [
        "##### $\\rightarrow$ Create a `SparkSession`."
      ]
    },
    {
      "cell_type": "code",
      "metadata": {
        "id": "IJMQ-Sk1AvMq"
      },
      "source": [
        "spark = SparkSession.builder.master(\"local\").getOrCreate()"
      ],
      "execution_count": 4,
      "outputs": []
    },
    {
      "cell_type": "markdown",
      "metadata": {
        "id": "Gspg0NMX_R8B"
      },
      "source": [
        "Examine the `SparkSession`"
      ]
    },
    {
      "cell_type": "code",
      "metadata": {
        "colab": {
          "base_uri": "https://localhost:8080/",
          "height": 219
        },
        "id": "dM924K1j_LtH",
        "outputId": "d30eb4aa-17e3-4fa1-e7b9-5b28daa99804"
      },
      "source": [
        "spark"
      ],
      "execution_count": 5,
      "outputs": [
        {
          "output_type": "execute_result",
          "data": {
            "text/html": [
              "\n",
              "            <div>\n",
              "                <p><b>SparkSession - in-memory</b></p>\n",
              "                \n",
              "        <div>\n",
              "            <p><b>SparkContext</b></p>\n",
              "\n",
              "            <p><a href=\"http://65c12d879c42:4040\">Spark UI</a></p>\n",
              "\n",
              "            <dl>\n",
              "              <dt>Version</dt>\n",
              "                <dd><code>v3.2.0</code></dd>\n",
              "              <dt>Master</dt>\n",
              "                <dd><code>local</code></dd>\n",
              "              <dt>AppName</dt>\n",
              "                <dd><code>pyspark-shell</code></dd>\n",
              "            </dl>\n",
              "        </div>\n",
              "        \n",
              "            </div>\n",
              "        "
            ],
            "text/plain": [
              "<pyspark.sql.session.SparkSession at 0x7f4f8b88a650>"
            ]
          },
          "metadata": {},
          "execution_count": 5
        }
      ]
    },
    {
      "cell_type": "markdown",
      "metadata": {
        "id": "UX7svfciOblA"
      },
      "source": [
        "## Load data"
      ]
    },
    {
      "cell_type": "markdown",
      "metadata": {
        "id": "EhMqTFmkOlxV"
      },
      "source": [
        "##### $\\rightarrow$ Load the `flights_small.csv` data set. This is similar to the data set used in Introduction to Pyspark on datacamp."
      ]
    },
    {
      "cell_type": "code",
      "metadata": {
        "colab": {
          "base_uri": "https://localhost:8080/"
        },
        "id": "fy67jsCj_qbv",
        "outputId": "ed64da58-eb1b-4535-bd7d-302a362abd2f"
      },
      "source": [
        "!wget https://raw.githubusercontent.com/goodboychan/datacamp_repo/master/Introduction.to.PySpark/dataset/flights_small.csv"
      ],
      "execution_count": 6,
      "outputs": [
        {
          "output_type": "stream",
          "name": "stdout",
          "text": [
            "--2021-12-14 05:28:24--  https://raw.githubusercontent.com/goodboychan/datacamp_repo/master/Introduction.to.PySpark/dataset/flights_small.csv\n",
            "Resolving raw.githubusercontent.com (raw.githubusercontent.com)... 185.199.108.133, 185.199.109.133, 185.199.110.133, ...\n",
            "Connecting to raw.githubusercontent.com (raw.githubusercontent.com)|185.199.108.133|:443... connected.\n",
            "HTTP request sent, awaiting response... 200 OK\n",
            "Length: 614173 (600K) [text/plain]\n",
            "Saving to: ‘flights_small.csv’\n",
            "\n",
            "flights_small.csv   100%[===================>] 599.78K  --.-KB/s    in 0.04s   \n",
            "\n",
            "2021-12-14 05:28:24 (13.6 MB/s) - ‘flights_small.csv’ saved [614173/614173]\n",
            "\n"
          ]
        }
      ]
    },
    {
      "cell_type": "markdown",
      "metadata": {
        "id": "-yrEMPFhP-rY"
      },
      "source": [
        "##### $\\rightarrow$ Read the data set into a Spark DataFrame called `df`."
      ]
    },
    {
      "cell_type": "markdown",
      "metadata": {
        "id": "5eXPNUPxOMmf"
      },
      "source": [
        "We need to specify a few options here. We specify that the header of the data set contains the columns names, not data values. We also ask Spark to infer the data types for each column."
      ]
    },
    {
      "cell_type": "code",
      "metadata": {
        "id": "Gpu1f82wOgy5"
      },
      "source": [
        "df = spark\\\n",
        "  .read\\\n",
        "  .option(\"inferSchema\", \"true\")\\\n",
        "  .option(\"header\", \"true\")\\\n",
        "  .csv(\"flights_small.csv\")"
      ],
      "execution_count": 7,
      "outputs": []
    },
    {
      "cell_type": "markdown",
      "metadata": {
        "id": "72EeTS9_WAM4"
      },
      "source": [
        "##### $\\rightarrow$ Use `show()` to display head of the DataFrame"
      ]
    },
    {
      "cell_type": "code",
      "metadata": {
        "colab": {
          "base_uri": "https://localhost:8080/"
        },
        "id": "7mayRSxzPwPU",
        "outputId": "d339819a-d48c-4003-aaef-376e7ef5d721"
      },
      "source": [
        "df.show(5)"
      ],
      "execution_count": 8,
      "outputs": [
        {
          "output_type": "stream",
          "name": "stdout",
          "text": [
            "+----+-----+---+--------+---------+--------+---------+-------+-------+------+------+----+--------+--------+----+------+\n",
            "|year|month|day|dep_time|dep_delay|arr_time|arr_delay|carrier|tailnum|flight|origin|dest|air_time|distance|hour|minute|\n",
            "+----+-----+---+--------+---------+--------+---------+-------+-------+------+------+----+--------+--------+----+------+\n",
            "|2014|   12|  8|     658|       -7|     935|       -5|     VX| N846VA|  1780|   SEA| LAX|     132|     954|   6|    58|\n",
            "|2014|    1| 22|    1040|        5|    1505|        5|     AS| N559AS|   851|   SEA| HNL|     360|    2677|  10|    40|\n",
            "|2014|    3|  9|    1443|       -2|    1652|        2|     VX| N847VA|   755|   SEA| SFO|     111|     679|  14|    43|\n",
            "|2014|    4|  9|    1705|       45|    1839|       34|     WN| N360SW|   344|   PDX| SJC|      83|     569|  17|     5|\n",
            "|2014|    3|  9|     754|       -1|    1015|        1|     AS| N612AS|   522|   SEA| BUR|     127|     937|   7|    54|\n",
            "+----+-----+---+--------+---------+--------+---------+-------+-------+------+------+----+--------+--------+----+------+\n",
            "only showing top 5 rows\n",
            "\n"
          ]
        }
      ]
    },
    {
      "cell_type": "markdown",
      "metadata": {
        "id": "ypM2fsdNOlra"
      },
      "source": [
        "##### $\\rightarrow$ Print the size of the DataFrame."
      ]
    },
    {
      "cell_type": "code",
      "metadata": {
        "id": "9waKhbWSqT3Y",
        "colab": {
          "base_uri": "https://localhost:8080/"
        },
        "outputId": "75907e99-3aef-4e93-bf62-229e8f6c8d84"
      },
      "source": [
        "print((df.count(), len(df.columns)))"
      ],
      "execution_count": 9,
      "outputs": [
        {
          "output_type": "stream",
          "name": "stdout",
          "text": [
            "(10000, 16)\n"
          ]
        }
      ]
    },
    {
      "cell_type": "markdown",
      "metadata": {
        "id": "dj2T0PAfeqcW"
      },
      "source": [
        "##### $\\rightarrow$ Check the data types to see how it infered the schema."
      ]
    },
    {
      "cell_type": "code",
      "metadata": {
        "colab": {
          "base_uri": "https://localhost:8080/"
        },
        "id": "feKTjz4OP8IS",
        "outputId": "ecbced30-1378-4f66-c187-fed8c401a6bb"
      },
      "source": [
        "df.dtypes"
      ],
      "execution_count": 10,
      "outputs": [
        {
          "output_type": "execute_result",
          "data": {
            "text/plain": [
              "[('year', 'int'),\n",
              " ('month', 'int'),\n",
              " ('day', 'int'),\n",
              " ('dep_time', 'string'),\n",
              " ('dep_delay', 'string'),\n",
              " ('arr_time', 'string'),\n",
              " ('arr_delay', 'string'),\n",
              " ('carrier', 'string'),\n",
              " ('tailnum', 'string'),\n",
              " ('flight', 'int'),\n",
              " ('origin', 'string'),\n",
              " ('dest', 'string'),\n",
              " ('air_time', 'string'),\n",
              " ('distance', 'int'),\n",
              " ('hour', 'string'),\n",
              " ('minute', 'string')]"
            ]
          },
          "metadata": {},
          "execution_count": 10
        }
      ]
    },
    {
      "cell_type": "markdown",
      "metadata": {
        "id": "qEfwJE7JewkT"
      },
      "source": [
        "##### $\\rightarrow$ This is incorrect, so we need to specify the schema explicitly."
      ]
    },
    {
      "cell_type": "code",
      "metadata": {
        "id": "fPs1Lr7bRrS0"
      },
      "source": [
        "schema = StructType([\n",
        "    StructField('year', IntegerType()),\n",
        "    StructField('month', IntegerType()),\n",
        "    StructField('day', IntegerType()),\n",
        "    StructField('dep_time', FloatType()),\n",
        "    StructField('dep_delay', FloatType()),\n",
        "    StructField('arr_time', FloatType()),\n",
        "    StructField('arr_delay', FloatType()),\n",
        "    StructField('carrier', StringType()),\n",
        "    StructField('tailnum', StringType()),\n",
        "    StructField('flight', IntegerType()),\n",
        "    StructField('origin', StringType()),\n",
        "    StructField('dest', StringType()),\n",
        "    StructField('air_time', FloatType()),\n",
        "    StructField('distance', IntegerType()),\n",
        "    StructField('hour', IntegerType()),\n",
        "    StructField('minute', IntegerType())])"
      ],
      "execution_count": 11,
      "outputs": []
    },
    {
      "cell_type": "markdown",
      "metadata": {
        "id": "CEuDB7roe1tJ"
      },
      "source": [
        "##### $\\rightarrow$ Reload the file using this schema and check the data types"
      ]
    },
    {
      "cell_type": "code",
      "metadata": {
        "id": "gtEYh7suQhjU"
      },
      "source": [
        "df = spark\\\n",
        "  .read\\\n",
        "  .option(\"header\", \"true\")\\\n",
        "  .schema(schema)\\\n",
        "  .csv(\"flights_small.csv\")"
      ],
      "execution_count": 12,
      "outputs": []
    },
    {
      "cell_type": "code",
      "metadata": {
        "colab": {
          "base_uri": "https://localhost:8080/"
        },
        "id": "7PVrPGAaTLLo",
        "outputId": "ef1e5d8e-c370-4e64-96f6-936bfdc12b58"
      },
      "source": [
        "df.dtypes"
      ],
      "execution_count": 13,
      "outputs": [
        {
          "output_type": "execute_result",
          "data": {
            "text/plain": [
              "[('year', 'int'),\n",
              " ('month', 'int'),\n",
              " ('day', 'int'),\n",
              " ('dep_time', 'float'),\n",
              " ('dep_delay', 'float'),\n",
              " ('arr_time', 'float'),\n",
              " ('arr_delay', 'float'),\n",
              " ('carrier', 'string'),\n",
              " ('tailnum', 'string'),\n",
              " ('flight', 'int'),\n",
              " ('origin', 'string'),\n",
              " ('dest', 'string'),\n",
              " ('air_time', 'float'),\n",
              " ('distance', 'int'),\n",
              " ('hour', 'int'),\n",
              " ('minute', 'int')]"
            ]
          },
          "metadata": {},
          "execution_count": 13
        }
      ]
    },
    {
      "cell_type": "code",
      "metadata": {
        "id": "erjF3mBmneq5"
      },
      "source": [
        "#We also could have altered the type of each column using the following approach:\n",
        "#df = df.withColumn(\"origin\", df.origin.cast(\"integer\"))"
      ],
      "execution_count": 14,
      "outputs": []
    },
    {
      "cell_type": "markdown",
      "metadata": {
        "id": "jg9zYiO0hS0L"
      },
      "source": [
        "### Operations with DataFrames"
      ]
    },
    {
      "cell_type": "markdown",
      "metadata": {
        "id": "wtjObn-7hYqJ"
      },
      "source": [
        "##### $\\rightarrow$ Count the number of flights originating from each airport."
      ]
    },
    {
      "cell_type": "code",
      "metadata": {
        "colab": {
          "base_uri": "https://localhost:8080/"
        },
        "id": "dsZorZf8hcnI",
        "outputId": "1878bf2d-de94-4ebd-e32f-1990fed5a251"
      },
      "source": [
        "df.groupBy('origin').count()"
      ],
      "execution_count": 15,
      "outputs": [
        {
          "output_type": "execute_result",
          "data": {
            "text/plain": [
              "DataFrame[origin: string, count: bigint]"
            ]
          },
          "metadata": {},
          "execution_count": 15
        }
      ]
    },
    {
      "cell_type": "markdown",
      "metadata": {
        "id": "6Oaipt3Vj_NJ"
      },
      "source": [
        "This did not do anything. We can use `explain` to see how Spark is planning to execute the operation."
      ]
    },
    {
      "cell_type": "code",
      "metadata": {
        "colab": {
          "base_uri": "https://localhost:8080/"
        },
        "id": "qD94a85Ckmw-",
        "outputId": "3fa40db2-1263-49df-e6ec-8006dd5a396b"
      },
      "source": [
        "df.groupBy('origin').count().explain()"
      ],
      "execution_count": 16,
      "outputs": [
        {
          "output_type": "stream",
          "name": "stdout",
          "text": [
            "== Physical Plan ==\n",
            "AdaptiveSparkPlan isFinalPlan=false\n",
            "+- HashAggregate(keys=[origin#160], functions=[count(1)])\n",
            "   +- Exchange hashpartitioning(origin#160, 200), ENSURE_REQUIREMENTS, [id=#72]\n",
            "      +- HashAggregate(keys=[origin#160], functions=[partial_count(1)])\n",
            "         +- FileScan csv [origin#160] Batched: false, DataFilters: [], Format: CSV, Location: InMemoryFileIndex(1 paths)[file:/content/flights_small.csv], PartitionFilters: [], PushedFilters: [], ReadSchema: struct<origin:string>\n",
            "\n",
            "\n"
          ]
        }
      ]
    },
    {
      "cell_type": "markdown",
      "metadata": {
        "id": "1mVlvf1DmtSA"
      },
      "source": [
        "##### $\\rightarrow$ Use `show` to show the results of the computation."
      ]
    },
    {
      "cell_type": "code",
      "metadata": {
        "colab": {
          "base_uri": "https://localhost:8080/"
        },
        "id": "JX-228mKijoy",
        "outputId": "27ecf623-132a-4101-c8d4-9acfda600856"
      },
      "source": [
        "df.groupBy('origin').count().show()"
      ],
      "execution_count": 17,
      "outputs": [
        {
          "output_type": "stream",
          "name": "stdout",
          "text": [
            "+------+-----+\n",
            "|origin|count|\n",
            "+------+-----+\n",
            "|   SEA| 6754|\n",
            "|   PDX| 3246|\n",
            "+------+-----+\n",
            "\n"
          ]
        }
      ]
    },
    {
      "cell_type": "markdown",
      "metadata": {
        "id": "mpMDzmhLe8jL"
      },
      "source": [
        "## Tables and SQL"
      ]
    },
    {
      "cell_type": "markdown",
      "metadata": {
        "id": "MkiMELvLPCH-"
      },
      "source": [
        "First note that we do not have any data tables in the `SparkSession`"
      ]
    },
    {
      "cell_type": "code",
      "metadata": {
        "colab": {
          "base_uri": "https://localhost:8080/"
        },
        "id": "jmptFfCcPMJI",
        "outputId": "80cd7f72-8a44-4765-d3cf-4a7973dccdbb"
      },
      "source": [
        "spark.catalog.listTables()"
      ],
      "execution_count": 18,
      "outputs": [
        {
          "output_type": "execute_result",
          "data": {
            "text/plain": [
              "[]"
            ]
          },
          "metadata": {},
          "execution_count": 18
        }
      ]
    },
    {
      "cell_type": "markdown",
      "metadata": {
        "id": "NTkrkra1m8Ls"
      },
      "source": [
        "##### $\\rightarrow$ Create a table for the data called `flights`."
      ]
    },
    {
      "cell_type": "code",
      "metadata": {
        "id": "cbQyp1fGnBSz"
      },
      "source": [
        "df.createOrReplaceTempView(\"flights\")"
      ],
      "execution_count": 19,
      "outputs": []
    },
    {
      "cell_type": "markdown",
      "metadata": {
        "id": "GO42IyndnSsh"
      },
      "source": [
        "Show that we now have a table. "
      ]
    },
    {
      "cell_type": "code",
      "metadata": {
        "colab": {
          "base_uri": "https://localhost:8080/"
        },
        "id": "FJtRBsd7nRyx",
        "outputId": "fb9bbe8f-8843-40c6-d6a4-4a2c6ee83190"
      },
      "source": [
        "spark.catalog.listTables()"
      ],
      "execution_count": 20,
      "outputs": [
        {
          "output_type": "execute_result",
          "data": {
            "text/plain": [
              "[Table(name='flights', database=None, description=None, tableType='TEMPORARY', isTemporary=True)]"
            ]
          },
          "metadata": {},
          "execution_count": 20
        }
      ]
    },
    {
      "cell_type": "markdown",
      "metadata": {
        "id": "rOqeTKbuPm_4"
      },
      "source": [
        "We can use SQL to specify operations on the data."
      ]
    },
    {
      "cell_type": "markdown",
      "metadata": {
        "id": "eBpz_voTPsrk"
      },
      "source": [
        "##### $\\rightarrow$ Again count the number of flights originating from each airport, but now use SQL syntax."
      ]
    },
    {
      "cell_type": "code",
      "metadata": {
        "colab": {
          "base_uri": "https://localhost:8080/"
        },
        "id": "ITd4xRCCpFak",
        "outputId": "927d3863-190b-45b9-851d-d63179ac7e59"
      },
      "source": [
        "spark.sql(\"SELECT origin, COUNT(*) \\\n",
        "FROM flights \\\n",
        "GROUP BY origin\").show()"
      ],
      "execution_count": 21,
      "outputs": [
        {
          "output_type": "stream",
          "name": "stdout",
          "text": [
            "+------+--------+\n",
            "|origin|count(1)|\n",
            "+------+--------+\n",
            "|   SEA|    6754|\n",
            "|   PDX|    3246|\n",
            "+------+--------+\n",
            "\n"
          ]
        }
      ]
    },
    {
      "cell_type": "markdown",
      "metadata": {
        "id": "KxX_n6HxP8pR"
      },
      "source": [
        "##### $\\rightarrow$ Show how Spark planned to perform the operation."
      ]
    },
    {
      "cell_type": "code",
      "metadata": {
        "colab": {
          "base_uri": "https://localhost:8080/"
        },
        "id": "oWe7hYEmoaX8",
        "outputId": "34699d65-b22a-4eaa-fc0c-7cf74df05abc"
      },
      "source": [
        "spark.sql(\"SELECT origin, COUNT(*) \\\n",
        "FROM flights \\\n",
        "GROUP BY origin\").explain()"
      ],
      "execution_count": 22,
      "outputs": [
        {
          "output_type": "stream",
          "name": "stdout",
          "text": [
            "== Physical Plan ==\n",
            "AdaptiveSparkPlan isFinalPlan=false\n",
            "+- HashAggregate(keys=[origin#160], functions=[count(1)])\n",
            "   +- Exchange hashpartitioning(origin#160, 200), ENSURE_REQUIREMENTS, [id=#184]\n",
            "      +- HashAggregate(keys=[origin#160], functions=[partial_count(1)])\n",
            "         +- FileScan csv [origin#160] Batched: false, DataFilters: [], Format: CSV, Location: InMemoryFileIndex(1 paths)[file:/content/flights_small.csv], PartitionFilters: [], PushedFilters: [], ReadSchema: struct<origin:string>\n",
            "\n",
            "\n"
          ]
        }
      ]
    },
    {
      "cell_type": "markdown",
      "metadata": {
        "id": "CSgbTVdJo8T6"
      },
      "source": [
        "Note that this is the same plan that was created using the DataFrame approach."
      ]
    },
    {
      "cell_type": "code",
      "metadata": {
        "colab": {
          "base_uri": "https://localhost:8080/"
        },
        "id": "K0EqNEK7o2FN",
        "outputId": "964255cd-c680-4abb-8467-51c0e161d635"
      },
      "source": [
        "df.groupBy('origin').count().explain()"
      ],
      "execution_count": 23,
      "outputs": [
        {
          "output_type": "stream",
          "name": "stdout",
          "text": [
            "== Physical Plan ==\n",
            "AdaptiveSparkPlan isFinalPlan=false\n",
            "+- HashAggregate(keys=[origin#160], functions=[count(1)])\n",
            "   +- Exchange hashpartitioning(origin#160, 200), ENSURE_REQUIREMENTS, [id=#197]\n",
            "      +- HashAggregate(keys=[origin#160], functions=[partial_count(1)])\n",
            "         +- FileScan csv [origin#160] Batched: false, DataFilters: [], Format: CSV, Location: InMemoryFileIndex(1 paths)[file:/content/flights_small.csv], PartitionFilters: [], PushedFilters: [], ReadSchema: struct<origin:string>\n",
            "\n",
            "\n"
          ]
        }
      ]
    },
    {
      "cell_type": "markdown",
      "metadata": {
        "id": "qyCL5kRLpqnZ"
      },
      "source": [
        "##### $\\rightarrow$ Count the flights between each pair of original and destination airport.\n"
      ]
    },
    {
      "cell_type": "markdown",
      "metadata": {
        "id": "0YFpNcsqQIkE"
      },
      "source": [
        "Using SQL:"
      ]
    },
    {
      "cell_type": "code",
      "metadata": {
        "colab": {
          "base_uri": "https://localhost:8080/"
        },
        "id": "4AqHcO76pt3L",
        "outputId": "7a20767e-8b99-4ed0-cf1d-addf0338e8aa"
      },
      "source": [
        "spark.sql(\"SELECT origin, dest, COUNT(*) \\\n",
        "FROM flights \\\n",
        "GROUP BY origin, dest\").show(5)"
      ],
      "execution_count": 24,
      "outputs": [
        {
          "output_type": "stream",
          "name": "stdout",
          "text": [
            "+------+----+--------+\n",
            "|origin|dest|count(1)|\n",
            "+------+----+--------+\n",
            "|   SEA| RNO|       8|\n",
            "|   SEA| DTW|      98|\n",
            "|   SEA| CLE|       2|\n",
            "|   SEA| LAX|     450|\n",
            "|   PDX| SEA|     144|\n",
            "+------+----+--------+\n",
            "only showing top 5 rows\n",
            "\n"
          ]
        }
      ]
    },
    {
      "cell_type": "markdown",
      "metadata": {
        "id": "ZdGovxBzpy2M"
      },
      "source": [
        "Using the DataFrame:"
      ]
    },
    {
      "cell_type": "code",
      "metadata": {
        "colab": {
          "base_uri": "https://localhost:8080/"
        },
        "id": "c0hOdvNZVQRC",
        "outputId": "4963cdee-0e5a-4155-b3cc-4413ee8f90ba"
      },
      "source": [
        "df.groupBy(['origin', 'dest']).count().show(5)"
      ],
      "execution_count": 25,
      "outputs": [
        {
          "output_type": "stream",
          "name": "stdout",
          "text": [
            "+------+----+-----+\n",
            "|origin|dest|count|\n",
            "+------+----+-----+\n",
            "|   SEA| RNO|    8|\n",
            "|   SEA| DTW|   98|\n",
            "|   SEA| CLE|    2|\n",
            "|   SEA| LAX|  450|\n",
            "|   PDX| SEA|  144|\n",
            "+------+----+-----+\n",
            "only showing top 5 rows\n",
            "\n"
          ]
        }
      ]
    },
    {
      "cell_type": "markdown",
      "metadata": {
        "id": "KtPACw_vo7V-"
      },
      "source": [
        "## Basic operations"
      ]
    },
    {
      "cell_type": "markdown",
      "metadata": {
        "id": "bcObKbJcQSi8"
      },
      "source": [
        "##### $\\rightarrow$ Compute the mean departure delay `dep_delay` from each airport."
      ]
    },
    {
      "cell_type": "code",
      "metadata": {
        "colab": {
          "base_uri": "https://localhost:8080/"
        },
        "id": "6QyvPgLvSI7z",
        "outputId": "fee42e26-c0a5-43c0-b37b-b1e94de02b69"
      },
      "source": [
        "df.select('dep_delay', 'origin').groupBy('origin').agg(avg('dep_delay')).show()"
      ],
      "execution_count": 26,
      "outputs": [
        {
          "output_type": "stream",
          "name": "stdout",
          "text": [
            "+------+-----------------+\n",
            "|origin|   avg(dep_delay)|\n",
            "+------+-----------------+\n",
            "|   SEA|6.334918983202022|\n",
            "|   PDX|5.513178294573644|\n",
            "+------+-----------------+\n",
            "\n"
          ]
        }
      ]
    },
    {
      "cell_type": "code",
      "metadata": {
        "colab": {
          "base_uri": "https://localhost:8080/"
        },
        "id": "pbsTb84-Q781",
        "outputId": "99fc85d8-9ec5-4325-d2ee-31a23956ba17"
      },
      "source": [
        "spark.sql(\"SELECT origin, AVG(dep_delay) \\\n",
        "FROM flights \\\n",
        "GROUP BY origin\").show()"
      ],
      "execution_count": 27,
      "outputs": [
        {
          "output_type": "stream",
          "name": "stdout",
          "text": [
            "+------+-----------------+\n",
            "|origin|   avg(dep_delay)|\n",
            "+------+-----------------+\n",
            "|   SEA|6.334918983202022|\n",
            "|   PDX|5.513178294573644|\n",
            "+------+-----------------+\n",
            "\n"
          ]
        }
      ]
    },
    {
      "cell_type": "markdown",
      "metadata": {
        "id": "qgQ6okUouCjI"
      },
      "source": [
        "## Regression"
      ]
    },
    {
      "cell_type": "markdown",
      "metadata": {
        "id": "dqnR-8PMupCQ"
      },
      "source": [
        "We will construct a regression model to predict flight `air_time` from `distance`, `dep_delay`, and `origin`.\n",
        "\n",
        "Constructing linear regression models is done differently in PySpark compared to Sci-kit learn. "
      ]
    },
    {
      "cell_type": "markdown",
      "metadata": {
        "id": "IVuXpw9vv70F"
      },
      "source": [
        "Recall the nature of the flights DataFrame and the data types."
      ]
    },
    {
      "cell_type": "code",
      "metadata": {
        "colab": {
          "base_uri": "https://localhost:8080/"
        },
        "id": "CZ5uknHTumQU",
        "outputId": "d8f4d56e-9dab-4cee-9af6-998ebce53261"
      },
      "source": [
        "df.show(5)"
      ],
      "execution_count": 28,
      "outputs": [
        {
          "output_type": "stream",
          "name": "stdout",
          "text": [
            "+----+-----+---+--------+---------+--------+---------+-------+-------+------+------+----+--------+--------+----+------+\n",
            "|year|month|day|dep_time|dep_delay|arr_time|arr_delay|carrier|tailnum|flight|origin|dest|air_time|distance|hour|minute|\n",
            "+----+-----+---+--------+---------+--------+---------+-------+-------+------+------+----+--------+--------+----+------+\n",
            "|2014|   12|  8|   658.0|     -7.0|   935.0|     -5.0|     VX| N846VA|  1780|   SEA| LAX|   132.0|     954|   6|    58|\n",
            "|2014|    1| 22|  1040.0|      5.0|  1505.0|      5.0|     AS| N559AS|   851|   SEA| HNL|   360.0|    2677|  10|    40|\n",
            "|2014|    3|  9|  1443.0|     -2.0|  1652.0|      2.0|     VX| N847VA|   755|   SEA| SFO|   111.0|     679|  14|    43|\n",
            "|2014|    4|  9|  1705.0|     45.0|  1839.0|     34.0|     WN| N360SW|   344|   PDX| SJC|    83.0|     569|  17|     5|\n",
            "|2014|    3|  9|   754.0|     -1.0|  1015.0|      1.0|     AS| N612AS|   522|   SEA| BUR|   127.0|     937|   7|    54|\n",
            "+----+-----+---+--------+---------+--------+---------+-------+-------+------+------+----+--------+--------+----+------+\n",
            "only showing top 5 rows\n",
            "\n"
          ]
        }
      ]
    },
    {
      "cell_type": "code",
      "metadata": {
        "colab": {
          "base_uri": "https://localhost:8080/"
        },
        "id": "ZGQClp9BwD1M",
        "outputId": "9e1b2a7e-412c-4a00-c2a2-3afece912ba9"
      },
      "source": [
        "df.dtypes"
      ],
      "execution_count": 29,
      "outputs": [
        {
          "output_type": "execute_result",
          "data": {
            "text/plain": [
              "[('year', 'int'),\n",
              " ('month', 'int'),\n",
              " ('day', 'int'),\n",
              " ('dep_time', 'float'),\n",
              " ('dep_delay', 'float'),\n",
              " ('arr_time', 'float'),\n",
              " ('arr_delay', 'float'),\n",
              " ('carrier', 'string'),\n",
              " ('tailnum', 'string'),\n",
              " ('flight', 'int'),\n",
              " ('origin', 'string'),\n",
              " ('dest', 'string'),\n",
              " ('air_time', 'float'),\n",
              " ('distance', 'int'),\n",
              " ('hour', 'int'),\n",
              " ('minute', 'int')]"
            ]
          },
          "metadata": {},
          "execution_count": 29
        }
      ]
    },
    {
      "cell_type": "markdown",
      "metadata": {
        "id": "OIkJIc-rSVG_"
      },
      "source": [
        "##### $\\rightarrow$ Drop any missing values to avoid errors in the regression analysis."
      ]
    },
    {
      "cell_type": "markdown",
      "metadata": {
        "id": "UXyLR_wVToqz"
      },
      "source": [
        "Count the number of missing values."
      ]
    },
    {
      "cell_type": "code",
      "metadata": {
        "colab": {
          "base_uri": "https://localhost:8080/"
        },
        "id": "Q_2W6qGcTnwL",
        "outputId": "c209b9e6-978c-4cff-d06c-22dbdd261ee6"
      },
      "source": [
        "df.select(*(sum(col(c).isNull().cast(\"int\")).alias(c) for c in df.columns)).show()"
      ],
      "execution_count": 30,
      "outputs": [
        {
          "output_type": "stream",
          "name": "stdout",
          "text": [
            "+----+-----+---+--------+---------+--------+---------+-------+-------+------+------+----+--------+--------+----+------+\n",
            "|year|month|day|dep_time|dep_delay|arr_time|arr_delay|carrier|tailnum|flight|origin|dest|air_time|distance|hour|minute|\n",
            "+----+-----+---+--------+---------+--------+---------+-------+-------+------+------+----+--------+--------+----+------+\n",
            "|   0|    0|  0|      48|       48|      55|       75|      0|      0|     0|     0|   0|      75|       0|  48|    48|\n",
            "+----+-----+---+--------+---------+--------+---------+-------+-------+------+------+----+--------+--------+----+------+\n",
            "\n"
          ]
        }
      ]
    },
    {
      "cell_type": "markdown",
      "metadata": {
        "id": "1EiKXeEMTrnB"
      },
      "source": [
        "Drop missing values."
      ]
    },
    {
      "cell_type": "code",
      "metadata": {
        "id": "upehnTnG0_zb"
      },
      "source": [
        "df = df.na.drop()"
      ],
      "execution_count": 31,
      "outputs": []
    },
    {
      "cell_type": "code",
      "metadata": {
        "colab": {
          "base_uri": "https://localhost:8080/"
        },
        "id": "qPF6JfMaVgi5",
        "outputId": "24a21fbf-27b7-491d-b7a1-b81b9705cb18"
      },
      "source": [
        "print((df.count(), len(df.columns)))"
      ],
      "execution_count": 32,
      "outputs": [
        {
          "output_type": "stream",
          "name": "stdout",
          "text": [
            "(9925, 16)\n"
          ]
        }
      ]
    },
    {
      "cell_type": "code",
      "metadata": {
        "colab": {
          "base_uri": "https://localhost:8080/"
        },
        "id": "rP56t-vtTWfG",
        "outputId": "8f178269-e0a9-4a16-87b5-f4660b59214e"
      },
      "source": [
        "df.select(*(sum(col(c).isNull().cast(\"int\")).alias(c) for c in df.columns)).show()"
      ],
      "execution_count": 33,
      "outputs": [
        {
          "output_type": "stream",
          "name": "stdout",
          "text": [
            "+----+-----+---+--------+---------+--------+---------+-------+-------+------+------+----+--------+--------+----+------+\n",
            "|year|month|day|dep_time|dep_delay|arr_time|arr_delay|carrier|tailnum|flight|origin|dest|air_time|distance|hour|minute|\n",
            "+----+-----+---+--------+---------+--------+---------+-------+-------+------+------+----+--------+--------+----+------+\n",
            "|   0|    0|  0|       0|        0|       0|        0|      0|      0|     0|     0|   0|       0|       0|   0|     0|\n",
            "+----+-----+---+--------+---------+--------+---------+-------+-------+------+------+----+--------+--------+----+------+\n",
            "\n"
          ]
        }
      ]
    },
    {
      "cell_type": "markdown",
      "metadata": {
        "id": "dIRQO7OikoCu"
      },
      "source": [
        "##### $\\rightarrow$ Create training and test splits."
      ]
    },
    {
      "cell_type": "code",
      "metadata": {
        "id": "C263iejniykb"
      },
      "source": [
        "train_data, test_data = df.randomSplit([0.8, 0.2])"
      ],
      "execution_count": 34,
      "outputs": []
    },
    {
      "cell_type": "markdown",
      "metadata": {
        "id": "9mPvzE1SlCqv"
      },
      "source": [
        "### Using a Pipeline for the model"
      ]
    },
    {
      "cell_type": "markdown",
      "metadata": {
        "id": "Wy28IsfVw_L0"
      },
      "source": [
        "#### One-hot-encoding categorical variables"
      ]
    },
    {
      "cell_type": "markdown",
      "metadata": {
        "id": "lzkDTlJxwJV5"
      },
      "source": [
        "In PySpark, categorical variables that are coded as strings, such as `origin` must be explicitly coded as numerical values. We can do this using the `OneHotEncoder` that transforms categorical variables into a vector of 0's and 1's.\n",
        "\n",
        "##### $\\rightarrow$ First create a `StringIndexer` that creates indicies to the different values of `origin`."
      ]
    },
    {
      "cell_type": "code",
      "metadata": {
        "id": "RD5SCUxunYWC"
      },
      "source": [
        "origin_indexer = StringIndexer(inputCol = 'origin', outputCol = 'origin_index')"
      ],
      "execution_count": 35,
      "outputs": []
    },
    {
      "cell_type": "markdown",
      "metadata": {
        "id": "bkotaulHxd-6"
      },
      "source": [
        "##### $\\rightarrow$ Now create the `OneHotEncoder` that will use the indexer to create factor variables that can be used in the regression model."
      ]
    },
    {
      "cell_type": "code",
      "metadata": {
        "id": "Q5iAF8QaofpR"
      },
      "source": [
        "origin_encoder = OneHotEncoder(inputCol='origin_index', outputCol='origin_factor')"
      ],
      "execution_count": 36,
      "outputs": []
    },
    {
      "cell_type": "markdown",
      "metadata": {
        "id": "oY0SQ9_tlNkf"
      },
      "source": [
        "#### Assemble the features"
      ]
    },
    {
      "cell_type": "markdown",
      "metadata": {
        "id": "WnoRSjAelKtK"
      },
      "source": [
        "##### $\\rightarrow$ Use `VectorAssembler` to put together the predictors in the model."
      ]
    },
    {
      "cell_type": "code",
      "metadata": {
        "id": "WN42544PlKtK"
      },
      "source": [
        "assembler = VectorAssembler(inputCols=['distance', 'dep_delay', 'origin_factor'], outputCol='features')"
      ],
      "execution_count": 37,
      "outputs": []
    },
    {
      "cell_type": "markdown",
      "metadata": {
        "id": "J2yHcEdBlVSG"
      },
      "source": [
        "#### Specify the regression model "
      ]
    },
    {
      "cell_type": "markdown",
      "metadata": {
        "id": "HWJkJaI1lgBo"
      },
      "source": [
        "##### $\\rightarrow$ Create a LinearRegression object"
      ]
    },
    {
      "cell_type": "code",
      "metadata": {
        "id": "hpjQtp11lgBp"
      },
      "source": [
        "lin_reg = LinearRegression(featuresCol = 'features', labelCol = 'air_time')"
      ],
      "execution_count": 38,
      "outputs": []
    },
    {
      "cell_type": "markdown",
      "metadata": {
        "id": "KKt1nFLXlocv"
      },
      "source": [
        "#### Specify the analysis pipeline"
      ]
    },
    {
      "cell_type": "markdown",
      "metadata": {
        "id": "LlwQ7jxdyGud"
      },
      "source": [
        "##### $\\rightarrow$ Create a `Pipeline` specifies the operations we want to perform on the data. Here it is only the one-hot-encoding of `origin`."
      ]
    },
    {
      "cell_type": "code",
      "metadata": {
        "id": "Qy9hKcTdlzmS"
      },
      "source": [
        "pipeline = Pipeline(stages=[origin_indexer, origin_encoder, assembler, lin_reg])"
      ],
      "execution_count": 39,
      "outputs": []
    },
    {
      "cell_type": "markdown",
      "metadata": {
        "id": "4O7pGGP-mGJl"
      },
      "source": [
        "#### Fit the model and view the coefficients"
      ]
    },
    {
      "cell_type": "code",
      "metadata": {
        "id": "-Pf-0JQumEqf"
      },
      "source": [
        "pipeline = pipeline.fit(train_data)"
      ],
      "execution_count": 40,
      "outputs": []
    },
    {
      "cell_type": "code",
      "metadata": {
        "colab": {
          "base_uri": "https://localhost:8080/"
        },
        "id": "-7zbCEzRm0pp",
        "outputId": "b952bcb4-ba9d-4673-836f-9e607c0a56d5"
      },
      "source": [
        "print(pipeline.stages[3].intercept)       \n",
        "print(pipeline.stages[3].coefficients)    \n",
        "print(pipeline.stages[3].summary.pValues) "
      ],
      "execution_count": 41,
      "outputs": [
        {
          "output_type": "stream",
          "name": "stdout",
          "text": [
            "20.192569164300377\n",
            "[0.10956523344585904,-0.014999374552495455,0.5526359213708129]\n",
            "[0.0, 0.0018196892495954131, 0.06493156385787024, 0.0]\n"
          ]
        }
      ]
    },
    {
      "cell_type": "markdown",
      "metadata": {
        "id": "zm6SF2s0ms4Z"
      },
      "source": [
        "#### Make predictions and evaluate the model"
      ]
    },
    {
      "cell_type": "code",
      "metadata": {
        "id": "f_ns0ri9mEqg"
      },
      "source": [
        "predictions = pipeline.transform(test_data)"
      ],
      "execution_count": 42,
      "outputs": []
    },
    {
      "cell_type": "code",
      "metadata": {
        "colab": {
          "base_uri": "https://localhost:8080/"
        },
        "id": "86tofPYumm2g",
        "outputId": "579ecbe7-bdc2-4e64-fb67-f2a3592421f5"
      },
      "source": [
        "predictions.show(5)"
      ],
      "execution_count": 43,
      "outputs": [
        {
          "output_type": "stream",
          "name": "stdout",
          "text": [
            "+----+-----+---+--------+---------+--------+---------+-------+-------+------+------+----+--------+--------+----+------+------------+-------------+-----------------+------------------+\n",
            "|year|month|day|dep_time|dep_delay|arr_time|arr_delay|carrier|tailnum|flight|origin|dest|air_time|distance|hour|minute|origin_index|origin_factor|         features|        prediction|\n",
            "+----+-----+---+--------+---------+--------+---------+-------+-------+------+------+----+--------+--------+----+------+------------+-------------+-----------------+------------------+\n",
            "|2014|    1|  1|   617.0|      2.0|   850.0|    -12.0|     AS| N579AS|   494|   SEA| SAN|   131.0|    1050|   6|    17|         0.0|(1,[0],[1.0])| [1050.0,2.0,1.0]| 135.7587014547182|\n",
            "|2014|    1|  1|   622.0|      2.0|  1412.0|    -19.0|     UA| N36472|  1021|   PDX| EWR|   270.0|    2434|   6|    22|         1.0|    (1,[],[])| [2434.0,2.0,0.0]| 286.8443486224163|\n",
            "|2014|    1|  1|   713.0|     20.0|  1317.0|     10.0|     UA| N854UA|   461|   SEA| IAH|   218.0|    1874|   7|    13|         0.0|(1,[0],[1.0])|[1874.0,20.0,1.0]|225.77046507216113|\n",
            "|2014|    1|  1|   802.0|     -3.0|  1533.0|    -17.0|     AS| N532AS|   742|   SEA| ATL|   249.0|    2182|   8|     2|         0.0|(1,[0],[1.0])|[2182.0,-3.0,1.0]|259.86154258819306|\n",
            "|2014|    1|  1|   817.0|     -3.0|  1158.0|     -7.0|     WN| N379SW|   253|   SEA| ABQ|   138.0|    1180|   8|    17|         0.0|(1,[0],[1.0])|[1180.0,-3.0,1.0]|150.07717867544233|\n",
            "+----+-----+---+--------+---------+--------+---------+-------+-------+------+------+----+--------+--------+----+------+------------+-------------+-----------------+------------------+\n",
            "only showing top 5 rows\n",
            "\n"
          ]
        }
      ]
    },
    {
      "cell_type": "markdown",
      "metadata": {
        "id": "nGFQCKWkmbVO"
      },
      "source": [
        "##### $\\rightarrow$ Create a RegressionEvaluator to compute the RMSE"
      ]
    },
    {
      "cell_type": "code",
      "metadata": {
        "id": "Hwfq6dP7mbVO"
      },
      "source": [
        "eval = RegressionEvaluator(labelCol=\"air_time\", predictionCol=\"prediction\", metricName=\"rmse\")"
      ],
      "execution_count": 44,
      "outputs": []
    },
    {
      "cell_type": "markdown",
      "metadata": {
        "id": "eFWWKoqNmbVO"
      },
      "source": [
        "##### $\\rightarrow$ Do the calculation of the RMSE"
      ]
    },
    {
      "cell_type": "code",
      "metadata": {
        "colab": {
          "base_uri": "https://localhost:8080/"
        },
        "id": "Rl6mCnCambVO",
        "outputId": "410e3291-a3c7-4875-9cba-5defb12c864d"
      },
      "source": [
        "rmse = eval.evaluate(predictions)\n",
        "print(\"RMSE: %.3f\" % rmse)"
      ],
      "execution_count": 45,
      "outputs": [
        {
          "output_type": "stream",
          "name": "stdout",
          "text": [
            "RMSE: 11.918\n"
          ]
        }
      ]
    },
    {
      "cell_type": "markdown",
      "metadata": {
        "id": "s9uXzgSjmg6t"
      },
      "source": [
        "##### $\\rightarrow$ Update the evaluation metric to compute the R-squared"
      ]
    },
    {
      "cell_type": "code",
      "metadata": {
        "colab": {
          "base_uri": "https://localhost:8080/"
        },
        "id": "HZmiVapimg6u",
        "outputId": "47bcefb8-5f7f-4fee-d1f7-bf10c9afb61a"
      },
      "source": [
        "r2 = eval.evaluate(predictions, {eval.metricName: \"r2\"})\n",
        "print(\"r2: %.3f\" %r2)"
      ],
      "execution_count": 46,
      "outputs": [
        {
          "output_type": "stream",
          "name": "stdout",
          "text": [
            "r2: 0.973\n"
          ]
        }
      ]
    },
    {
      "cell_type": "markdown",
      "metadata": {
        "id": "d2RVmWsznT-h"
      },
      "source": [
        "#### Output the results to Pandas for visualization"
      ]
    },
    {
      "cell_type": "markdown",
      "metadata": {
        "id": "Swzf761TnSYb"
      },
      "source": [
        "##### $\\rightarrow$ Output the Spark `pred` DataFrame to a Pandas DataFrame"
      ]
    },
    {
      "cell_type": "code",
      "metadata": {
        "id": "jU6oKQ-nnSYb"
      },
      "source": [
        "df_reg = predictions.toPandas()"
      ],
      "execution_count": 47,
      "outputs": []
    },
    {
      "cell_type": "markdown",
      "metadata": {
        "id": "b5bTPIjQnSYb"
      },
      "source": [
        "##### $\\rightarrow$ Examine the Pandas DataFrame"
      ]
    },
    {
      "cell_type": "code",
      "metadata": {
        "colab": {
          "base_uri": "https://localhost:8080/",
          "height": 313
        },
        "id": "A7iWFRRwnSYb",
        "outputId": "3ebb2f83-fb5b-43e4-fbf2-bb5fd663e5f0"
      },
      "source": [
        "df_reg.head()"
      ],
      "execution_count": 48,
      "outputs": [
        {
          "output_type": "execute_result",
          "data": {
            "text/html": [
              "<div>\n",
              "<style scoped>\n",
              "    .dataframe tbody tr th:only-of-type {\n",
              "        vertical-align: middle;\n",
              "    }\n",
              "\n",
              "    .dataframe tbody tr th {\n",
              "        vertical-align: top;\n",
              "    }\n",
              "\n",
              "    .dataframe thead th {\n",
              "        text-align: right;\n",
              "    }\n",
              "</style>\n",
              "<table border=\"1\" class=\"dataframe\">\n",
              "  <thead>\n",
              "    <tr style=\"text-align: right;\">\n",
              "      <th></th>\n",
              "      <th>year</th>\n",
              "      <th>month</th>\n",
              "      <th>day</th>\n",
              "      <th>dep_time</th>\n",
              "      <th>dep_delay</th>\n",
              "      <th>arr_time</th>\n",
              "      <th>arr_delay</th>\n",
              "      <th>carrier</th>\n",
              "      <th>tailnum</th>\n",
              "      <th>flight</th>\n",
              "      <th>origin</th>\n",
              "      <th>dest</th>\n",
              "      <th>air_time</th>\n",
              "      <th>distance</th>\n",
              "      <th>hour</th>\n",
              "      <th>minute</th>\n",
              "      <th>origin_index</th>\n",
              "      <th>origin_factor</th>\n",
              "      <th>features</th>\n",
              "      <th>prediction</th>\n",
              "    </tr>\n",
              "  </thead>\n",
              "  <tbody>\n",
              "    <tr>\n",
              "      <th>0</th>\n",
              "      <td>2014</td>\n",
              "      <td>1</td>\n",
              "      <td>1</td>\n",
              "      <td>617.0</td>\n",
              "      <td>2.0</td>\n",
              "      <td>850.0</td>\n",
              "      <td>-12.0</td>\n",
              "      <td>AS</td>\n",
              "      <td>N579AS</td>\n",
              "      <td>494</td>\n",
              "      <td>SEA</td>\n",
              "      <td>SAN</td>\n",
              "      <td>131.0</td>\n",
              "      <td>1050</td>\n",
              "      <td>6</td>\n",
              "      <td>17</td>\n",
              "      <td>0.0</td>\n",
              "      <td>(1.0)</td>\n",
              "      <td>[1050.0, 2.0, 1.0]</td>\n",
              "      <td>135.758701</td>\n",
              "    </tr>\n",
              "    <tr>\n",
              "      <th>1</th>\n",
              "      <td>2014</td>\n",
              "      <td>1</td>\n",
              "      <td>1</td>\n",
              "      <td>622.0</td>\n",
              "      <td>2.0</td>\n",
              "      <td>1412.0</td>\n",
              "      <td>-19.0</td>\n",
              "      <td>UA</td>\n",
              "      <td>N36472</td>\n",
              "      <td>1021</td>\n",
              "      <td>PDX</td>\n",
              "      <td>EWR</td>\n",
              "      <td>270.0</td>\n",
              "      <td>2434</td>\n",
              "      <td>6</td>\n",
              "      <td>22</td>\n",
              "      <td>1.0</td>\n",
              "      <td>(0.0)</td>\n",
              "      <td>[2434.0, 2.0, 0.0]</td>\n",
              "      <td>286.844349</td>\n",
              "    </tr>\n",
              "    <tr>\n",
              "      <th>2</th>\n",
              "      <td>2014</td>\n",
              "      <td>1</td>\n",
              "      <td>1</td>\n",
              "      <td>713.0</td>\n",
              "      <td>20.0</td>\n",
              "      <td>1317.0</td>\n",
              "      <td>10.0</td>\n",
              "      <td>UA</td>\n",
              "      <td>N854UA</td>\n",
              "      <td>461</td>\n",
              "      <td>SEA</td>\n",
              "      <td>IAH</td>\n",
              "      <td>218.0</td>\n",
              "      <td>1874</td>\n",
              "      <td>7</td>\n",
              "      <td>13</td>\n",
              "      <td>0.0</td>\n",
              "      <td>(1.0)</td>\n",
              "      <td>[1874.0, 20.0, 1.0]</td>\n",
              "      <td>225.770465</td>\n",
              "    </tr>\n",
              "    <tr>\n",
              "      <th>3</th>\n",
              "      <td>2014</td>\n",
              "      <td>1</td>\n",
              "      <td>1</td>\n",
              "      <td>802.0</td>\n",
              "      <td>-3.0</td>\n",
              "      <td>1533.0</td>\n",
              "      <td>-17.0</td>\n",
              "      <td>AS</td>\n",
              "      <td>N532AS</td>\n",
              "      <td>742</td>\n",
              "      <td>SEA</td>\n",
              "      <td>ATL</td>\n",
              "      <td>249.0</td>\n",
              "      <td>2182</td>\n",
              "      <td>8</td>\n",
              "      <td>2</td>\n",
              "      <td>0.0</td>\n",
              "      <td>(1.0)</td>\n",
              "      <td>[2182.0, -3.0, 1.0]</td>\n",
              "      <td>259.861543</td>\n",
              "    </tr>\n",
              "    <tr>\n",
              "      <th>4</th>\n",
              "      <td>2014</td>\n",
              "      <td>1</td>\n",
              "      <td>1</td>\n",
              "      <td>817.0</td>\n",
              "      <td>-3.0</td>\n",
              "      <td>1158.0</td>\n",
              "      <td>-7.0</td>\n",
              "      <td>WN</td>\n",
              "      <td>N379SW</td>\n",
              "      <td>253</td>\n",
              "      <td>SEA</td>\n",
              "      <td>ABQ</td>\n",
              "      <td>138.0</td>\n",
              "      <td>1180</td>\n",
              "      <td>8</td>\n",
              "      <td>17</td>\n",
              "      <td>0.0</td>\n",
              "      <td>(1.0)</td>\n",
              "      <td>[1180.0, -3.0, 1.0]</td>\n",
              "      <td>150.077179</td>\n",
              "    </tr>\n",
              "  </tbody>\n",
              "</table>\n",
              "</div>"
            ],
            "text/plain": [
              "   year  month  day  ...  origin_factor             features  prediction\n",
              "0  2014      1    1  ...          (1.0)   [1050.0, 2.0, 1.0]  135.758701\n",
              "1  2014      1    1  ...          (0.0)   [2434.0, 2.0, 0.0]  286.844349\n",
              "2  2014      1    1  ...          (1.0)  [1874.0, 20.0, 1.0]  225.770465\n",
              "3  2014      1    1  ...          (1.0)  [2182.0, -3.0, 1.0]  259.861543\n",
              "4  2014      1    1  ...          (1.0)  [1180.0, -3.0, 1.0]  150.077179\n",
              "\n",
              "[5 rows x 20 columns]"
            ]
          },
          "metadata": {},
          "execution_count": 48
        }
      ]
    },
    {
      "cell_type": "code",
      "metadata": {
        "id": "q3hkEdPEnLk8",
        "colab": {
          "base_uri": "https://localhost:8080/"
        },
        "outputId": "527a11e0-c011-4e6e-e3e8-66c17391be64"
      },
      "source": [
        "df_reg.info()"
      ],
      "execution_count": 49,
      "outputs": [
        {
          "output_type": "stream",
          "name": "stdout",
          "text": [
            "<class 'pandas.core.frame.DataFrame'>\n",
            "RangeIndex: 1991 entries, 0 to 1990\n",
            "Data columns (total 20 columns):\n",
            " #   Column         Non-Null Count  Dtype  \n",
            "---  ------         --------------  -----  \n",
            " 0   year           1991 non-null   int32  \n",
            " 1   month          1991 non-null   int32  \n",
            " 2   day            1991 non-null   int32  \n",
            " 3   dep_time       1991 non-null   float32\n",
            " 4   dep_delay      1991 non-null   float32\n",
            " 5   arr_time       1991 non-null   float32\n",
            " 6   arr_delay      1991 non-null   float32\n",
            " 7   carrier        1991 non-null   object \n",
            " 8   tailnum        1991 non-null   object \n",
            " 9   flight         1991 non-null   int32  \n",
            " 10  origin         1991 non-null   object \n",
            " 11  dest           1991 non-null   object \n",
            " 12  air_time       1991 non-null   float32\n",
            " 13  distance       1991 non-null   int32  \n",
            " 14  hour           1991 non-null   int32  \n",
            " 15  minute         1991 non-null   int32  \n",
            " 16  origin_index   1991 non-null   float64\n",
            " 17  origin_factor  1991 non-null   object \n",
            " 18  features       1991 non-null   object \n",
            " 19  prediction     1991 non-null   float64\n",
            "dtypes: float32(5), float64(2), int32(7), object(6)\n",
            "memory usage: 217.9+ KB\n"
          ]
        }
      ]
    },
    {
      "cell_type": "markdown",
      "metadata": {
        "id": "aOnKjGpnnLk9"
      },
      "source": [
        "##### $\\rightarrow$ Plot the measured `air_time` vs. the prediction"
      ]
    },
    {
      "cell_type": "code",
      "metadata": {
        "colab": {
          "base_uri": "https://localhost:8080/",
          "height": 284
        },
        "id": "IqxGiyqjnLk9",
        "outputId": "d9cb29db-b1d0-453f-d270-41171ccfb40f"
      },
      "source": [
        "df_reg.plot(kind = 'scatter', x = 'air_time', y = 'prediction');\n",
        "\n",
        "plt.xlabel('Air time (minutes)', fontsize = 15)\n",
        "plt.ylabel('Predicted air time (minutes)', fontsize = 15);"
      ],
      "execution_count": 50,
      "outputs": [
        {
          "output_type": "display_data",
          "data": {
            "image/png": "[encoded data removed]",
            "text/plain": [
              "<Figure size 432x288 with 1 Axes>"
            ]
          },
          "metadata": {
            "needs_background": "light"
          }
        }
      ]
    },
    {
      "cell_type": "code",
      "metadata": {
        "id": "A5_hEF_bXal3"
      },
      "source": [
        ""
      ],
      "execution_count": 50,
      "outputs": []
    }
  ]
}